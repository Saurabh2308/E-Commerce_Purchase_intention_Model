{
 "cells": [
  {
   "cell_type": "markdown",
   "id": "d97f9e32-4a97-4af5-aa72-0b8bd154b741",
   "metadata": {},
   "source": [
    "# E-Commerce Purchase Intention Model"
   ]
  },
  {
   "cell_type": "markdown",
   "id": "351b55b0-daf2-4824-b0fc-683dd4019032",
   "metadata": {},
   "source": [
    "### Purchase intention model\n",
    "- Ecommerce purchase intention models predict the probability of each\n",
    "customer making a purchase or not.\n",
    "- Once we identify then we can target those customers.\n",
    "- We will learn here how they work and build model\n",
    "- Ecommerce purchase intention models analyse click-stream consumer\n",
    "behaviour data from web analytics platforms.\n",
    "- After analysis it can predict whether a customer will make a purchase\n",
    "during their visit.\n",
    "- These online shopping models are used to examine real time web\n",
    "analytics data and predict the probability of each customer making a\n",
    "purchase, so the retailer can serve a carefully targeted promotion to try\n",
    "and persuade those less likely to purchase."
   ]
  },
  {
   "cell_type": "markdown",
   "id": "76b8e0e1-dfaf-4fd4-850e-eb859ba68517",
   "metadata": {},
   "source": [
    "# Work flow of ecommerce purchase intention models\n",
    "- The problem statement is, customer will BUY product or NOT\n",
    "- So, this is classification.\n",
    "- E-Commerce purchase intention models are classifiers.\n",
    "- These models designed to analyse web analytics data and predict\n",
    "whether a customer will buy product or not during their visit.\n",
    "- These things needs to be monitored,\n",
    "- Number of times URLs visited\n",
    "- Information about product\n",
    "- Recorded the number of each page type visited\n",
    "- Time spent on the pages."
   ]
  },
  {
   "cell_type": "markdown",
   "id": "e5dabc29-a237-491b-9943-520b3efc811c",
   "metadata": {},
   "source": [
    "# Imported Required librarie"
   ]
  },
  {
   "cell_type": "code",
   "execution_count": 1,
   "id": "72070f7d-4962-452a-a66f-b7cd009af3be",
   "metadata": {},
   "outputs": [],
   "source": [
    "import time"
   ]
  },
  {
   "cell_type": "code",
   "execution_count": 2,
   "id": "1930e06c-e5b8-4d63-a81d-af61ccf72bb3",
   "metadata": {},
   "outputs": [],
   "source": [
    "import pandas as pd"
   ]
  },
  {
   "cell_type": "code",
   "execution_count": 3,
   "id": "936493bf-c6e1-467b-8b3e-4a5d499fcc48",
   "metadata": {},
   "outputs": [],
   "source": [
    "import numpy as np"
   ]
  },
  {
   "cell_type": "code",
   "execution_count": 4,
   "id": "c4042e1c-e328-44eb-bf7d-62a4482fc286",
   "metadata": {},
   "outputs": [],
   "source": [
    "import seaborn as sns"
   ]
  },
  {
   "cell_type": "code",
   "execution_count": 5,
   "id": "6ee8444e-fa49-4656-b606-aa1292239c8a",
   "metadata": {},
   "outputs": [],
   "source": [
    "import matplotlib.pyplot as plt"
   ]
  },
  {
   "cell_type": "code",
   "execution_count": 6,
   "id": "12ed9ec9-d392-43f8-b6d9-066dcbab39af",
   "metadata": {},
   "outputs": [],
   "source": [
    "from sklearn.model_selection import train_test_split"
   ]
  },
  {
   "cell_type": "code",
   "execution_count": 7,
   "id": "18c661a9-aa34-4537-83f9-867ac196770e",
   "metadata": {},
   "outputs": [],
   "source": [
    "from sklearn.model_selection import cross_val_score"
   ]
  },
  {
   "cell_type": "code",
   "execution_count": 8,
   "id": "f48f5c66-a66e-4a9b-bd85-5a1b8ba1188f",
   "metadata": {},
   "outputs": [],
   "source": [
    "from sklearn.model_selection import GridSearchCV"
   ]
  },
  {
   "cell_type": "code",
   "execution_count": 9,
   "id": "d9d61eaa-0186-475f-a2dd-c8e06d33a74f",
   "metadata": {},
   "outputs": [],
   "source": [
    "from sklearn.feature_selection import SelectKBest"
   ]
  },
  {
   "cell_type": "code",
   "execution_count": 10,
   "id": "ef97b071-4e29-4524-b485-4563b1bbe005",
   "metadata": {},
   "outputs": [],
   "source": [
    "from sklearn.feature_selection import chi2"
   ]
  },
  {
   "cell_type": "code",
   "execution_count": 11,
   "id": "3d100afd-ade3-4b45-98bf-98efc68747ba",
   "metadata": {},
   "outputs": [],
   "source": [
    "from imblearn.over_sampling import SMOTE"
   ]
  },
  {
   "cell_type": "code",
   "execution_count": 12,
   "id": "f25f45f4-6b28-4322-8a73-1a35d9fcb428",
   "metadata": {},
   "outputs": [],
   "source": [
    "from imblearn.pipeline import Pipeline as imbpipeline"
   ]
  },
  {
   "cell_type": "code",
   "execution_count": 13,
   "id": "1d6b4883-4242-4acf-9906-5f06ee928a5d",
   "metadata": {},
   "outputs": [],
   "source": [
    "from sklearn.pipeline import Pipeline"
   ]
  },
  {
   "cell_type": "code",
   "execution_count": 14,
   "id": "6036217c-2605-4186-a534-c4a7186126e0",
   "metadata": {},
   "outputs": [],
   "source": [
    "from sklearn.compose import ColumnTransformer"
   ]
  },
  {
   "cell_type": "code",
   "execution_count": 15,
   "id": "64a7a3be-9d2f-4e71-ba50-d5bed82b5952",
   "metadata": {},
   "outputs": [],
   "source": [
    "from sklearn.impute import SimpleImputer"
   ]
  },
  {
   "cell_type": "code",
   "execution_count": 16,
   "id": "8c1a8ba1-89cd-4809-b0ab-a4df999c35bf",
   "metadata": {},
   "outputs": [],
   "source": [
    "from sklearn.preprocessing import OneHotEncoder"
   ]
  },
  {
   "cell_type": "code",
   "execution_count": 17,
   "id": "9e76c1d2-570c-4f32-852e-d1a0949dd13a",
   "metadata": {},
   "outputs": [],
   "source": [
    "from sklearn.preprocessing import OrdinalEncoder"
   ]
  },
  {
   "cell_type": "code",
   "execution_count": 18,
   "id": "2b2bde99-04ca-4a20-acff-69c0b4ab387a",
   "metadata": {},
   "outputs": [],
   "source": [
    "from sklearn.preprocessing import StandardScaler"
   ]
  },
  {
   "cell_type": "code",
   "execution_count": 19,
   "id": "bb1838eb-313b-4c9c-a5a2-c87680d11f98",
   "metadata": {},
   "outputs": [],
   "source": [
    "from sklearn.preprocessing import MinMaxScaler"
   ]
  },
  {
   "cell_type": "code",
   "execution_count": 20,
   "id": "ca52d422-e93f-48f8-a3ef-6e6fa000c990",
   "metadata": {},
   "outputs": [],
   "source": [
    "from sklearn.metrics import accuracy_score"
   ]
  },
  {
   "cell_type": "code",
   "execution_count": 21,
   "id": "a56e3eaf-4d3f-4703-a7cb-0a39c617bc68",
   "metadata": {},
   "outputs": [],
   "source": [
    "from sklearn.metrics import roc_auc_score"
   ]
  },
  {
   "cell_type": "code",
   "execution_count": 22,
   "id": "eef54952-c44d-400c-b432-26d620a9044c",
   "metadata": {},
   "outputs": [],
   "source": [
    "from sklearn.metrics import classification_report"
   ]
  },
  {
   "cell_type": "code",
   "execution_count": 23,
   "id": "b1915629-a36c-4ba9-bc85-0ab9de852dbf",
   "metadata": {},
   "outputs": [],
   "source": [
    "from sklearn.metrics import confusion_matrix"
   ]
  },
  {
   "cell_type": "code",
   "execution_count": 24,
   "id": "2fbe6bac-1573-48c9-bfb3-5d439ed0d0bd",
   "metadata": {},
   "outputs": [],
   "source": [
    "from sklearn.metrics import f1_score"
   ]
  },
  {
   "cell_type": "code",
   "execution_count": 25,
   "id": "14e3d494-6366-49af-88a8-37a35543d43c",
   "metadata": {},
   "outputs": [],
   "source": [
    "from sklearn.svm import SVC"
   ]
  },
  {
   "cell_type": "code",
   "execution_count": 26,
   "id": "3b8a69fe-d438-414d-bfe7-3036b7163c68",
   "metadata": {},
   "outputs": [],
   "source": [
    "from xgboost import XGBClassifier"
   ]
  },
  {
   "cell_type": "code",
   "execution_count": 27,
   "id": "068643dc-db58-4a36-9fa1-537ac2d1bee8",
   "metadata": {},
   "outputs": [],
   "source": [
    "from sklearn.dummy import DummyClassifier"
   ]
  },
  {
   "cell_type": "code",
   "execution_count": 28,
   "id": "cb1ee4d1-1df3-4c0e-9374-ebc881a8bb17",
   "metadata": {},
   "outputs": [],
   "source": [
    "from sklearn.neighbors import KNeighborsClassifier"
   ]
  },
  {
   "cell_type": "code",
   "execution_count": 29,
   "id": "9648e7ce-0928-4516-8fc1-b65df17a2da5",
   "metadata": {},
   "outputs": [],
   "source": [
    "from sklearn.tree import DecisionTreeClassifier"
   ]
  },
  {
   "cell_type": "code",
   "execution_count": 30,
   "id": "37663426-653e-467d-8acf-91664b155775",
   "metadata": {},
   "outputs": [],
   "source": [
    "from sklearn.linear_model import RidgeClassifier"
   ]
  },
  {
   "cell_type": "code",
   "execution_count": 31,
   "id": "03bf6318-a88b-4a1b-b990-7597b12fe4cb",
   "metadata": {},
   "outputs": [],
   "source": [
    "from sklearn.linear_model import SGDClassifier"
   ]
  },
  {
   "cell_type": "code",
   "execution_count": 32,
   "id": "47326433-b507-4a2c-9409-8e4da9675a53",
   "metadata": {},
   "outputs": [],
   "source": [
    "from sklearn.ensemble import RandomForestClassifier"
   ]
  },
  {
   "cell_type": "code",
   "execution_count": 33,
   "id": "8572b612-9497-4909-82c6-f80f4c1b284e",
   "metadata": {},
   "outputs": [],
   "source": [
    "from sklearn.naive_bayes import BernoulliNB"
   ]
  },
  {
   "cell_type": "markdown",
   "id": "d49ec866-b96f-4a8d-96b0-1d115c14dccd",
   "metadata": {},
   "source": [
    "### To ignore warning"
   ]
  },
  {
   "cell_type": "code",
   "execution_count": 34,
   "id": "f05bd26e-9f0f-4984-9043-9b9c7671f123",
   "metadata": {},
   "outputs": [],
   "source": [
    "from warnings import simplefilter"
   ]
  },
  {
   "cell_type": "code",
   "execution_count": 35,
   "id": "d61af594-8ecd-4793-8127-af24950f38f4",
   "metadata": {},
   "outputs": [],
   "source": [
    "from sklearn.exceptions import ConvergenceWarning"
   ]
  },
  {
   "cell_type": "code",
   "execution_count": 36,
   "id": "5e3a2068-fd5e-4d21-9e9e-e631d2d640fd",
   "metadata": {},
   "outputs": [],
   "source": [
    "simplefilter(\"ignore\", category=ConvergenceWarning)"
   ]
  },
  {
   "cell_type": "markdown",
   "id": "7ac5374a-0245-4e68-aff5-5e9abe588dcb",
   "metadata": {},
   "source": [
    "# Loading dataset using pandas"
   ]
  },
  {
   "cell_type": "code",
   "execution_count": 37,
   "id": "b34ada88-5de5-4a94-9d84-90b7240bf616",
   "metadata": {},
   "outputs": [],
   "source": [
    "df = pd.read_csv(\"online_shoppers_intention.csv\")"
   ]
  },
  {
   "cell_type": "code",
   "execution_count": 38,
   "id": "960421aa-a418-4f07-8a8e-4a07533cd1f0",
   "metadata": {},
   "outputs": [
    {
     "data": {
      "text/html": [
       "<div>\n",
       "<style scoped>\n",
       "    .dataframe tbody tr th:only-of-type {\n",
       "        vertical-align: middle;\n",
       "    }\n",
       "\n",
       "    .dataframe tbody tr th {\n",
       "        vertical-align: top;\n",
       "    }\n",
       "\n",
       "    .dataframe thead th {\n",
       "        text-align: right;\n",
       "    }\n",
       "</style>\n",
       "<table border=\"1\" class=\"dataframe\">\n",
       "  <thead>\n",
       "    <tr style=\"text-align: right;\">\n",
       "      <th></th>\n",
       "      <th>Administrative</th>\n",
       "      <th>Administrative_Duration</th>\n",
       "      <th>Informational</th>\n",
       "      <th>Informational_Duration</th>\n",
       "      <th>ProductRelated</th>\n",
       "      <th>ProductRelated_Duration</th>\n",
       "      <th>BounceRates</th>\n",
       "      <th>ExitRates</th>\n",
       "      <th>PageValues</th>\n",
       "      <th>SpecialDay</th>\n",
       "      <th>Month</th>\n",
       "      <th>OperatingSystems</th>\n",
       "      <th>Browser</th>\n",
       "      <th>Region</th>\n",
       "      <th>TrafficType</th>\n",
       "      <th>VisitorType</th>\n",
       "      <th>Weekend</th>\n",
       "      <th>Revenue</th>\n",
       "    </tr>\n",
       "  </thead>\n",
       "  <tbody>\n",
       "    <tr>\n",
       "      <th>0</th>\n",
       "      <td>0</td>\n",
       "      <td>0.0</td>\n",
       "      <td>0</td>\n",
       "      <td>0.0</td>\n",
       "      <td>1</td>\n",
       "      <td>0.000000</td>\n",
       "      <td>0.20</td>\n",
       "      <td>0.20</td>\n",
       "      <td>0.0</td>\n",
       "      <td>0.0</td>\n",
       "      <td>Feb</td>\n",
       "      <td>1</td>\n",
       "      <td>1</td>\n",
       "      <td>1</td>\n",
       "      <td>1</td>\n",
       "      <td>Returning_Visitor</td>\n",
       "      <td>False</td>\n",
       "      <td>False</td>\n",
       "    </tr>\n",
       "    <tr>\n",
       "      <th>1</th>\n",
       "      <td>0</td>\n",
       "      <td>0.0</td>\n",
       "      <td>0</td>\n",
       "      <td>0.0</td>\n",
       "      <td>2</td>\n",
       "      <td>64.000000</td>\n",
       "      <td>0.00</td>\n",
       "      <td>0.10</td>\n",
       "      <td>0.0</td>\n",
       "      <td>0.0</td>\n",
       "      <td>Feb</td>\n",
       "      <td>2</td>\n",
       "      <td>2</td>\n",
       "      <td>1</td>\n",
       "      <td>2</td>\n",
       "      <td>Returning_Visitor</td>\n",
       "      <td>False</td>\n",
       "      <td>False</td>\n",
       "    </tr>\n",
       "    <tr>\n",
       "      <th>2</th>\n",
       "      <td>0</td>\n",
       "      <td>0.0</td>\n",
       "      <td>0</td>\n",
       "      <td>0.0</td>\n",
       "      <td>1</td>\n",
       "      <td>0.000000</td>\n",
       "      <td>0.20</td>\n",
       "      <td>0.20</td>\n",
       "      <td>0.0</td>\n",
       "      <td>0.0</td>\n",
       "      <td>Feb</td>\n",
       "      <td>4</td>\n",
       "      <td>1</td>\n",
       "      <td>9</td>\n",
       "      <td>3</td>\n",
       "      <td>Returning_Visitor</td>\n",
       "      <td>False</td>\n",
       "      <td>False</td>\n",
       "    </tr>\n",
       "    <tr>\n",
       "      <th>3</th>\n",
       "      <td>0</td>\n",
       "      <td>0.0</td>\n",
       "      <td>0</td>\n",
       "      <td>0.0</td>\n",
       "      <td>2</td>\n",
       "      <td>2.666667</td>\n",
       "      <td>0.05</td>\n",
       "      <td>0.14</td>\n",
       "      <td>0.0</td>\n",
       "      <td>0.0</td>\n",
       "      <td>Feb</td>\n",
       "      <td>3</td>\n",
       "      <td>2</td>\n",
       "      <td>2</td>\n",
       "      <td>4</td>\n",
       "      <td>Returning_Visitor</td>\n",
       "      <td>False</td>\n",
       "      <td>False</td>\n",
       "    </tr>\n",
       "    <tr>\n",
       "      <th>4</th>\n",
       "      <td>0</td>\n",
       "      <td>0.0</td>\n",
       "      <td>0</td>\n",
       "      <td>0.0</td>\n",
       "      <td>10</td>\n",
       "      <td>627.500000</td>\n",
       "      <td>0.02</td>\n",
       "      <td>0.05</td>\n",
       "      <td>0.0</td>\n",
       "      <td>0.0</td>\n",
       "      <td>Feb</td>\n",
       "      <td>3</td>\n",
       "      <td>3</td>\n",
       "      <td>1</td>\n",
       "      <td>4</td>\n",
       "      <td>Returning_Visitor</td>\n",
       "      <td>True</td>\n",
       "      <td>False</td>\n",
       "    </tr>\n",
       "  </tbody>\n",
       "</table>\n",
       "</div>"
      ],
      "text/plain": [
       "   Administrative  Administrative_Duration  Informational  \\\n",
       "0               0                      0.0              0   \n",
       "1               0                      0.0              0   \n",
       "2               0                      0.0              0   \n",
       "3               0                      0.0              0   \n",
       "4               0                      0.0              0   \n",
       "\n",
       "   Informational_Duration  ProductRelated  ProductRelated_Duration  \\\n",
       "0                     0.0               1                 0.000000   \n",
       "1                     0.0               2                64.000000   \n",
       "2                     0.0               1                 0.000000   \n",
       "3                     0.0               2                 2.666667   \n",
       "4                     0.0              10               627.500000   \n",
       "\n",
       "   BounceRates  ExitRates  PageValues  SpecialDay Month  OperatingSystems  \\\n",
       "0         0.20       0.20         0.0         0.0   Feb                 1   \n",
       "1         0.00       0.10         0.0         0.0   Feb                 2   \n",
       "2         0.20       0.20         0.0         0.0   Feb                 4   \n",
       "3         0.05       0.14         0.0         0.0   Feb                 3   \n",
       "4         0.02       0.05         0.0         0.0   Feb                 3   \n",
       "\n",
       "   Browser  Region  TrafficType        VisitorType  Weekend  Revenue  \n",
       "0        1       1            1  Returning_Visitor    False    False  \n",
       "1        2       1            2  Returning_Visitor    False    False  \n",
       "2        1       9            3  Returning_Visitor    False    False  \n",
       "3        2       2            4  Returning_Visitor    False    False  \n",
       "4        3       1            4  Returning_Visitor     True    False  "
      ]
     },
     "execution_count": 38,
     "metadata": {},
     "output_type": "execute_result"
    }
   ],
   "source": [
    "df.head()"
   ]
  },
  {
   "cell_type": "markdown",
   "id": "3cf866bc-d544-4eb1-82db-41c35b081782",
   "metadata": {},
   "source": [
    "# Number of rows and columns"
   ]
  },
  {
   "cell_type": "code",
   "execution_count": 39,
   "id": "82e98a8b-de78-4b6a-9ab8-7b01d02aa82b",
   "metadata": {},
   "outputs": [
    {
     "data": {
      "text/plain": [
       "(12330, 18)"
      ]
     },
     "execution_count": 39,
     "metadata": {},
     "output_type": "execute_result"
    }
   ],
   "source": [
    "df.shape"
   ]
  },
  {
   "cell_type": "markdown",
   "id": "b4b96aa6-cf04-45a5-a2db-71d5a329cf5a",
   "metadata": {},
   "source": [
    "# Dataset information"
   ]
  },
  {
   "cell_type": "code",
   "execution_count": 40,
   "id": "72a3a260-faeb-4af7-93de-04e4fa3f89ab",
   "metadata": {},
   "outputs": [
    {
     "name": "stdout",
     "output_type": "stream",
     "text": [
      "<class 'pandas.core.frame.DataFrame'>\n",
      "RangeIndex: 12330 entries, 0 to 12329\n",
      "Data columns (total 18 columns):\n",
      " #   Column                   Non-Null Count  Dtype  \n",
      "---  ------                   --------------  -----  \n",
      " 0   Administrative           12330 non-null  int64  \n",
      " 1   Administrative_Duration  12330 non-null  float64\n",
      " 2   Informational            12330 non-null  int64  \n",
      " 3   Informational_Duration   12330 non-null  float64\n",
      " 4   ProductRelated           12330 non-null  int64  \n",
      " 5   ProductRelated_Duration  12330 non-null  float64\n",
      " 6   BounceRates              12330 non-null  float64\n",
      " 7   ExitRates                12330 non-null  float64\n",
      " 8   PageValues               12330 non-null  float64\n",
      " 9   SpecialDay               12330 non-null  float64\n",
      " 10  Month                    12330 non-null  object \n",
      " 11  OperatingSystems         12330 non-null  int64  \n",
      " 12  Browser                  12330 non-null  int64  \n",
      " 13  Region                   12330 non-null  int64  \n",
      " 14  TrafficType              12330 non-null  int64  \n",
      " 15  VisitorType              12330 non-null  object \n",
      " 16  Weekend                  12330 non-null  bool   \n",
      " 17  Revenue                  12330 non-null  bool   \n",
      "dtypes: bool(2), float64(7), int64(7), object(2)\n",
      "memory usage: 1.5+ MB\n"
     ]
    }
   ],
   "source": [
    "df.info()"
   ]
  },
  {
   "cell_type": "markdown",
   "id": "96962bde-f55d-40a7-8ce3-0b7d34c418e4",
   "metadata": {},
   "source": [
    "# Weekend column"
   ]
  },
  {
   "cell_type": "code",
   "execution_count": 41,
   "id": "57eb4cf3-c254-4836-a9ea-3e681189d2de",
   "metadata": {},
   "outputs": [
    {
     "data": {
      "text/plain": [
       "array([False,  True])"
      ]
     },
     "execution_count": 41,
     "metadata": {},
     "output_type": "execute_result"
    }
   ],
   "source": [
    "df['Weekend'].unique()"
   ]
  },
  {
   "cell_type": "markdown",
   "id": "3511e3d5-b761-498f-a69b-b0bdc2511754",
   "metadata": {},
   "source": [
    "### Convert Weekend column to binary values"
   ]
  },
  {
   "cell_type": "code",
   "execution_count": 42,
   "id": "cfb26163-ab69-4302-8dad-630debcd006c",
   "metadata": {},
   "outputs": [],
   "source": [
    "df['Weekend'] = df['Weekend'].replace((True, False), (1, 0))"
   ]
  },
  {
   "cell_type": "code",
   "execution_count": 43,
   "id": "e3fd9991-1899-4bac-9eb6-9a64cb027f8e",
   "metadata": {},
   "outputs": [
    {
     "data": {
      "text/html": [
       "<div>\n",
       "<style scoped>\n",
       "    .dataframe tbody tr th:only-of-type {\n",
       "        vertical-align: middle;\n",
       "    }\n",
       "\n",
       "    .dataframe tbody tr th {\n",
       "        vertical-align: top;\n",
       "    }\n",
       "\n",
       "    .dataframe thead th {\n",
       "        text-align: right;\n",
       "    }\n",
       "</style>\n",
       "<table border=\"1\" class=\"dataframe\">\n",
       "  <thead>\n",
       "    <tr style=\"text-align: right;\">\n",
       "      <th></th>\n",
       "      <th>Administrative</th>\n",
       "      <th>Administrative_Duration</th>\n",
       "      <th>Informational</th>\n",
       "      <th>Informational_Duration</th>\n",
       "      <th>ProductRelated</th>\n",
       "      <th>ProductRelated_Duration</th>\n",
       "      <th>BounceRates</th>\n",
       "      <th>ExitRates</th>\n",
       "      <th>PageValues</th>\n",
       "      <th>SpecialDay</th>\n",
       "      <th>Month</th>\n",
       "      <th>OperatingSystems</th>\n",
       "      <th>Browser</th>\n",
       "      <th>Region</th>\n",
       "      <th>TrafficType</th>\n",
       "      <th>VisitorType</th>\n",
       "      <th>Weekend</th>\n",
       "      <th>Revenue</th>\n",
       "    </tr>\n",
       "  </thead>\n",
       "  <tbody>\n",
       "    <tr>\n",
       "      <th>0</th>\n",
       "      <td>0</td>\n",
       "      <td>0.0</td>\n",
       "      <td>0</td>\n",
       "      <td>0.0</td>\n",
       "      <td>1</td>\n",
       "      <td>0.000000</td>\n",
       "      <td>0.20</td>\n",
       "      <td>0.20</td>\n",
       "      <td>0.0</td>\n",
       "      <td>0.0</td>\n",
       "      <td>Feb</td>\n",
       "      <td>1</td>\n",
       "      <td>1</td>\n",
       "      <td>1</td>\n",
       "      <td>1</td>\n",
       "      <td>Returning_Visitor</td>\n",
       "      <td>0</td>\n",
       "      <td>False</td>\n",
       "    </tr>\n",
       "    <tr>\n",
       "      <th>1</th>\n",
       "      <td>0</td>\n",
       "      <td>0.0</td>\n",
       "      <td>0</td>\n",
       "      <td>0.0</td>\n",
       "      <td>2</td>\n",
       "      <td>64.000000</td>\n",
       "      <td>0.00</td>\n",
       "      <td>0.10</td>\n",
       "      <td>0.0</td>\n",
       "      <td>0.0</td>\n",
       "      <td>Feb</td>\n",
       "      <td>2</td>\n",
       "      <td>2</td>\n",
       "      <td>1</td>\n",
       "      <td>2</td>\n",
       "      <td>Returning_Visitor</td>\n",
       "      <td>0</td>\n",
       "      <td>False</td>\n",
       "    </tr>\n",
       "    <tr>\n",
       "      <th>2</th>\n",
       "      <td>0</td>\n",
       "      <td>0.0</td>\n",
       "      <td>0</td>\n",
       "      <td>0.0</td>\n",
       "      <td>1</td>\n",
       "      <td>0.000000</td>\n",
       "      <td>0.20</td>\n",
       "      <td>0.20</td>\n",
       "      <td>0.0</td>\n",
       "      <td>0.0</td>\n",
       "      <td>Feb</td>\n",
       "      <td>4</td>\n",
       "      <td>1</td>\n",
       "      <td>9</td>\n",
       "      <td>3</td>\n",
       "      <td>Returning_Visitor</td>\n",
       "      <td>0</td>\n",
       "      <td>False</td>\n",
       "    </tr>\n",
       "    <tr>\n",
       "      <th>3</th>\n",
       "      <td>0</td>\n",
       "      <td>0.0</td>\n",
       "      <td>0</td>\n",
       "      <td>0.0</td>\n",
       "      <td>2</td>\n",
       "      <td>2.666667</td>\n",
       "      <td>0.05</td>\n",
       "      <td>0.14</td>\n",
       "      <td>0.0</td>\n",
       "      <td>0.0</td>\n",
       "      <td>Feb</td>\n",
       "      <td>3</td>\n",
       "      <td>2</td>\n",
       "      <td>2</td>\n",
       "      <td>4</td>\n",
       "      <td>Returning_Visitor</td>\n",
       "      <td>0</td>\n",
       "      <td>False</td>\n",
       "    </tr>\n",
       "    <tr>\n",
       "      <th>4</th>\n",
       "      <td>0</td>\n",
       "      <td>0.0</td>\n",
       "      <td>0</td>\n",
       "      <td>0.0</td>\n",
       "      <td>10</td>\n",
       "      <td>627.500000</td>\n",
       "      <td>0.02</td>\n",
       "      <td>0.05</td>\n",
       "      <td>0.0</td>\n",
       "      <td>0.0</td>\n",
       "      <td>Feb</td>\n",
       "      <td>3</td>\n",
       "      <td>3</td>\n",
       "      <td>1</td>\n",
       "      <td>4</td>\n",
       "      <td>Returning_Visitor</td>\n",
       "      <td>1</td>\n",
       "      <td>False</td>\n",
       "    </tr>\n",
       "  </tbody>\n",
       "</table>\n",
       "</div>"
      ],
      "text/plain": [
       "   Administrative  Administrative_Duration  Informational  \\\n",
       "0               0                      0.0              0   \n",
       "1               0                      0.0              0   \n",
       "2               0                      0.0              0   \n",
       "3               0                      0.0              0   \n",
       "4               0                      0.0              0   \n",
       "\n",
       "   Informational_Duration  ProductRelated  ProductRelated_Duration  \\\n",
       "0                     0.0               1                 0.000000   \n",
       "1                     0.0               2                64.000000   \n",
       "2                     0.0               1                 0.000000   \n",
       "3                     0.0               2                 2.666667   \n",
       "4                     0.0              10               627.500000   \n",
       "\n",
       "   BounceRates  ExitRates  PageValues  SpecialDay Month  OperatingSystems  \\\n",
       "0         0.20       0.20         0.0         0.0   Feb                 1   \n",
       "1         0.00       0.10         0.0         0.0   Feb                 2   \n",
       "2         0.20       0.20         0.0         0.0   Feb                 4   \n",
       "3         0.05       0.14         0.0         0.0   Feb                 3   \n",
       "4         0.02       0.05         0.0         0.0   Feb                 3   \n",
       "\n",
       "   Browser  Region  TrafficType        VisitorType  Weekend  Revenue  \n",
       "0        1       1            1  Returning_Visitor        0    False  \n",
       "1        2       1            2  Returning_Visitor        0    False  \n",
       "2        1       9            3  Returning_Visitor        0    False  \n",
       "3        2       2            4  Returning_Visitor        0    False  \n",
       "4        3       1            4  Returning_Visitor        1    False  "
      ]
     },
     "execution_count": 43,
     "metadata": {},
     "output_type": "execute_result"
    }
   ],
   "source": [
    "df.head()"
   ]
  },
  {
   "cell_type": "markdown",
   "id": "a85e517e-79d6-4794-844e-e0dbf5a466bf",
   "metadata": {},
   "source": [
    "# Checking unique values in Revenue column"
   ]
  },
  {
   "cell_type": "code",
   "execution_count": 44,
   "id": "e954add3-588d-4263-a90e-7e8595119284",
   "metadata": {},
   "outputs": [
    {
     "data": {
      "text/plain": [
       "array([False,  True])"
      ]
     },
     "execution_count": 44,
     "metadata": {},
     "output_type": "execute_result"
    }
   ],
   "source": [
    "df['Revenue'].unique()"
   ]
  },
  {
   "cell_type": "code",
   "execution_count": 45,
   "id": "46898bca-84c6-4a24-ad10-460e522cd549",
   "metadata": {},
   "outputs": [],
   "source": [
    "df['Revenue'] = df['Revenue'].replace((True, False), (1, 0))"
   ]
  },
  {
   "cell_type": "markdown",
   "id": "02bb41bf-cd74-4a33-b28c-08b1d0f36afc",
   "metadata": {},
   "source": [
    "# Checking unique values in VisitorType column"
   ]
  },
  {
   "cell_type": "code",
   "execution_count": 46,
   "id": "4bb2ae70-2cf1-4c38-9afd-47e885dd6af7",
   "metadata": {},
   "outputs": [
    {
     "data": {
      "text/plain": [
       "array(['Returning_Visitor', 'New_Visitor', 'Other'], dtype=object)"
      ]
     },
     "execution_count": 46,
     "metadata": {},
     "output_type": "execute_result"
    }
   ],
   "source": [
    "df['VisitorType'].unique()"
   ]
  },
  {
   "cell_type": "markdown",
   "id": "6ec0ee74-bd4f-49de-8d94-573d69923d77",
   "metadata": {},
   "source": [
    "### Adding Returning_Visitor column and Convert VisitorType column to binary values"
   ]
  },
  {
   "cell_type": "code",
   "execution_count": 47,
   "id": "f2c69928-d359-4b4f-9b00-63ff48f7b73b",
   "metadata": {},
   "outputs": [],
   "source": [
    "condition = df['VisitorType']=='Returning_Visitor'"
   ]
  },
  {
   "cell_type": "code",
   "execution_count": 48,
   "id": "6ff971c1-c7c3-4b27-a7aa-7a2ec31a8fe5",
   "metadata": {},
   "outputs": [],
   "source": [
    "df['Returning_Visitor'] = np.where(condition, 1, 0)"
   ]
  },
  {
   "cell_type": "code",
   "execution_count": 49,
   "id": "6f3f0d8d-6f77-47d7-b640-5745928c9c05",
   "metadata": {},
   "outputs": [
    {
     "data": {
      "text/html": [
       "<div>\n",
       "<style scoped>\n",
       "    .dataframe tbody tr th:only-of-type {\n",
       "        vertical-align: middle;\n",
       "    }\n",
       "\n",
       "    .dataframe tbody tr th {\n",
       "        vertical-align: top;\n",
       "    }\n",
       "\n",
       "    .dataframe thead th {\n",
       "        text-align: right;\n",
       "    }\n",
       "</style>\n",
       "<table border=\"1\" class=\"dataframe\">\n",
       "  <thead>\n",
       "    <tr style=\"text-align: right;\">\n",
       "      <th></th>\n",
       "      <th>Administrative</th>\n",
       "      <th>Administrative_Duration</th>\n",
       "      <th>Informational</th>\n",
       "      <th>Informational_Duration</th>\n",
       "      <th>ProductRelated</th>\n",
       "      <th>ProductRelated_Duration</th>\n",
       "      <th>BounceRates</th>\n",
       "      <th>ExitRates</th>\n",
       "      <th>PageValues</th>\n",
       "      <th>SpecialDay</th>\n",
       "      <th>Month</th>\n",
       "      <th>OperatingSystems</th>\n",
       "      <th>Browser</th>\n",
       "      <th>Region</th>\n",
       "      <th>TrafficType</th>\n",
       "      <th>VisitorType</th>\n",
       "      <th>Weekend</th>\n",
       "      <th>Revenue</th>\n",
       "      <th>Returning_Visitor</th>\n",
       "    </tr>\n",
       "  </thead>\n",
       "  <tbody>\n",
       "    <tr>\n",
       "      <th>0</th>\n",
       "      <td>0</td>\n",
       "      <td>0.0</td>\n",
       "      <td>0</td>\n",
       "      <td>0.0</td>\n",
       "      <td>1</td>\n",
       "      <td>0.000000</td>\n",
       "      <td>0.20</td>\n",
       "      <td>0.20</td>\n",
       "      <td>0.0</td>\n",
       "      <td>0.0</td>\n",
       "      <td>Feb</td>\n",
       "      <td>1</td>\n",
       "      <td>1</td>\n",
       "      <td>1</td>\n",
       "      <td>1</td>\n",
       "      <td>Returning_Visitor</td>\n",
       "      <td>0</td>\n",
       "      <td>0</td>\n",
       "      <td>1</td>\n",
       "    </tr>\n",
       "    <tr>\n",
       "      <th>1</th>\n",
       "      <td>0</td>\n",
       "      <td>0.0</td>\n",
       "      <td>0</td>\n",
       "      <td>0.0</td>\n",
       "      <td>2</td>\n",
       "      <td>64.000000</td>\n",
       "      <td>0.00</td>\n",
       "      <td>0.10</td>\n",
       "      <td>0.0</td>\n",
       "      <td>0.0</td>\n",
       "      <td>Feb</td>\n",
       "      <td>2</td>\n",
       "      <td>2</td>\n",
       "      <td>1</td>\n",
       "      <td>2</td>\n",
       "      <td>Returning_Visitor</td>\n",
       "      <td>0</td>\n",
       "      <td>0</td>\n",
       "      <td>1</td>\n",
       "    </tr>\n",
       "    <tr>\n",
       "      <th>2</th>\n",
       "      <td>0</td>\n",
       "      <td>0.0</td>\n",
       "      <td>0</td>\n",
       "      <td>0.0</td>\n",
       "      <td>1</td>\n",
       "      <td>0.000000</td>\n",
       "      <td>0.20</td>\n",
       "      <td>0.20</td>\n",
       "      <td>0.0</td>\n",
       "      <td>0.0</td>\n",
       "      <td>Feb</td>\n",
       "      <td>4</td>\n",
       "      <td>1</td>\n",
       "      <td>9</td>\n",
       "      <td>3</td>\n",
       "      <td>Returning_Visitor</td>\n",
       "      <td>0</td>\n",
       "      <td>0</td>\n",
       "      <td>1</td>\n",
       "    </tr>\n",
       "    <tr>\n",
       "      <th>3</th>\n",
       "      <td>0</td>\n",
       "      <td>0.0</td>\n",
       "      <td>0</td>\n",
       "      <td>0.0</td>\n",
       "      <td>2</td>\n",
       "      <td>2.666667</td>\n",
       "      <td>0.05</td>\n",
       "      <td>0.14</td>\n",
       "      <td>0.0</td>\n",
       "      <td>0.0</td>\n",
       "      <td>Feb</td>\n",
       "      <td>3</td>\n",
       "      <td>2</td>\n",
       "      <td>2</td>\n",
       "      <td>4</td>\n",
       "      <td>Returning_Visitor</td>\n",
       "      <td>0</td>\n",
       "      <td>0</td>\n",
       "      <td>1</td>\n",
       "    </tr>\n",
       "    <tr>\n",
       "      <th>4</th>\n",
       "      <td>0</td>\n",
       "      <td>0.0</td>\n",
       "      <td>0</td>\n",
       "      <td>0.0</td>\n",
       "      <td>10</td>\n",
       "      <td>627.500000</td>\n",
       "      <td>0.02</td>\n",
       "      <td>0.05</td>\n",
       "      <td>0.0</td>\n",
       "      <td>0.0</td>\n",
       "      <td>Feb</td>\n",
       "      <td>3</td>\n",
       "      <td>3</td>\n",
       "      <td>1</td>\n",
       "      <td>4</td>\n",
       "      <td>Returning_Visitor</td>\n",
       "      <td>1</td>\n",
       "      <td>0</td>\n",
       "      <td>1</td>\n",
       "    </tr>\n",
       "  </tbody>\n",
       "</table>\n",
       "</div>"
      ],
      "text/plain": [
       "   Administrative  Administrative_Duration  Informational  \\\n",
       "0               0                      0.0              0   \n",
       "1               0                      0.0              0   \n",
       "2               0                      0.0              0   \n",
       "3               0                      0.0              0   \n",
       "4               0                      0.0              0   \n",
       "\n",
       "   Informational_Duration  ProductRelated  ProductRelated_Duration  \\\n",
       "0                     0.0               1                 0.000000   \n",
       "1                     0.0               2                64.000000   \n",
       "2                     0.0               1                 0.000000   \n",
       "3                     0.0               2                 2.666667   \n",
       "4                     0.0              10               627.500000   \n",
       "\n",
       "   BounceRates  ExitRates  PageValues  SpecialDay Month  OperatingSystems  \\\n",
       "0         0.20       0.20         0.0         0.0   Feb                 1   \n",
       "1         0.00       0.10         0.0         0.0   Feb                 2   \n",
       "2         0.20       0.20         0.0         0.0   Feb                 4   \n",
       "3         0.05       0.14         0.0         0.0   Feb                 3   \n",
       "4         0.02       0.05         0.0         0.0   Feb                 3   \n",
       "\n",
       "   Browser  Region  TrafficType        VisitorType  Weekend  Revenue  \\\n",
       "0        1       1            1  Returning_Visitor        0        0   \n",
       "1        2       1            2  Returning_Visitor        0        0   \n",
       "2        1       9            3  Returning_Visitor        0        0   \n",
       "3        2       2            4  Returning_Visitor        0        0   \n",
       "4        3       1            4  Returning_Visitor        1        0   \n",
       "\n",
       "   Returning_Visitor  \n",
       "0                  1  \n",
       "1                  1  \n",
       "2                  1  \n",
       "3                  1  \n",
       "4                  1  "
      ]
     },
     "execution_count": 49,
     "metadata": {},
     "output_type": "execute_result"
    }
   ],
   "source": [
    "df.head()"
   ]
  },
  {
   "cell_type": "markdown",
   "id": "2348b398-f7ce-4cd3-8561-3f833b14a67e",
   "metadata": {},
   "source": [
    "### Drop VisitorType column"
   ]
  },
  {
   "cell_type": "code",
   "execution_count": 50,
   "id": "5a0ee394-9a38-49c2-b3ab-4b157ef9a435",
   "metadata": {},
   "outputs": [],
   "source": [
    "df = df.drop(columns = ['VisitorType'])"
   ]
  },
  {
   "cell_type": "markdown",
   "id": "7440c78e-2315-432d-adab-2fa78c1e535b",
   "metadata": {},
   "source": [
    "# Checking all columns data type"
   ]
  },
  {
   "cell_type": "code",
   "execution_count": 51,
   "id": "9568b34e-5583-4393-8e6d-af9cbaac6adc",
   "metadata": {},
   "outputs": [
    {
     "data": {
      "text/plain": [
       "Administrative               int64\n",
       "Administrative_Duration    float64\n",
       "Informational                int64\n",
       "Informational_Duration     float64\n",
       "ProductRelated               int64\n",
       "ProductRelated_Duration    float64\n",
       "BounceRates                float64\n",
       "ExitRates                  float64\n",
       "PageValues                 float64\n",
       "SpecialDay                 float64\n",
       "Month                       object\n",
       "OperatingSystems             int64\n",
       "Browser                      int64\n",
       "Region                       int64\n",
       "TrafficType                  int64\n",
       "Weekend                      int64\n",
       "Revenue                      int64\n",
       "Returning_Visitor            int32\n",
       "dtype: object"
      ]
     },
     "execution_count": 51,
     "metadata": {},
     "output_type": "execute_result"
    }
   ],
   "source": [
    "df.dtypes"
   ]
  },
  {
   "cell_type": "markdown",
   "id": "0c085a09-888c-4415-8491-862ab2a1b8bb",
   "metadata": {},
   "source": [
    "### Checking unique values in Month column"
   ]
  },
  {
   "cell_type": "code",
   "execution_count": 52,
   "id": "c93b5016-cf68-4aff-9571-965152380b52",
   "metadata": {},
   "outputs": [
    {
     "data": {
      "text/plain": [
       "array(['Feb', 'Mar', 'May', 'Oct', 'June', 'Jul', 'Aug', 'Nov', 'Sep',\n",
       "       'Dec'], dtype=object)"
      ]
     },
     "execution_count": 52,
     "metadata": {},
     "output_type": "execute_result"
    }
   ],
   "source": [
    "df['Month'].unique()"
   ]
  },
  {
   "cell_type": "markdown",
   "id": "bc81c634-66a7-461a-a998-39e59736dcd3",
   "metadata": {},
   "source": [
    "### Applying Ordinal Encoding on Month column"
   ]
  },
  {
   "cell_type": "code",
   "execution_count": 53,
   "id": "019a4701-cf56-472c-af91-6086658d6864",
   "metadata": {},
   "outputs": [],
   "source": [
    "ordinal_encoder = OrdinalEncoder()"
   ]
  },
  {
   "cell_type": "code",
   "execution_count": 54,
   "id": "5b921f0b-4262-41a2-9568-9887b9cf186b",
   "metadata": {},
   "outputs": [],
   "source": [
    "df['Month'] = ordinal_encoder.fit_transform(df[['Month']])"
   ]
  },
  {
   "cell_type": "code",
   "execution_count": 55,
   "id": "277d3c43-31b3-4057-87b6-ec6e03c2e6ce",
   "metadata": {},
   "outputs": [
    {
     "name": "stdout",
     "output_type": "stream",
     "text": [
      "[2. 5. 6. 8. 4. 3. 0. 7. 9. 1.]\n"
     ]
    }
   ],
   "source": [
    "print(df['Month'].unique())"
   ]
  },
  {
   "cell_type": "markdown",
   "id": "336b921f-05a9-4d38-bd59-14648abac46e",
   "metadata": {},
   "source": [
    "# Revenue column is the target variable"
   ]
  },
  {
   "cell_type": "code",
   "execution_count": 56,
   "id": "41a302da-3c4e-450a-ac0d-9b68e80af717",
   "metadata": {},
   "outputs": [
    {
     "data": {
      "text/plain": [
       "Revenue\n",
       "0    10422\n",
       "1     1908\n",
       "Name: count, dtype: int64"
      ]
     },
     "execution_count": 56,
     "metadata": {},
     "output_type": "execute_result"
    }
   ],
   "source": [
    "df.Revenue.value_counts()"
   ]
  },
  {
   "cell_type": "markdown",
   "id": "bb2cfc81-631d-4a75-8af3-d74b1ea7a1e5",
   "metadata": {},
   "source": [
    "# Access required columns"
   ]
  },
  {
   "cell_type": "code",
   "execution_count": 57,
   "id": "467b3687-928a-46fc-9008-443a2db2a077",
   "metadata": {},
   "outputs": [],
   "source": [
    "result = df.columns[1:]"
   ]
  },
  {
   "cell_type": "code",
   "execution_count": 58,
   "id": "340ef87c-da2a-4c3a-9765-6afd043c104f",
   "metadata": {},
   "outputs": [
    {
     "data": {
      "text/plain": [
       "Index(['Administrative_Duration', 'Informational', 'Informational_Duration',\n",
       "       'ProductRelated', 'ProductRelated_Duration', 'BounceRates', 'ExitRates',\n",
       "       'PageValues', 'SpecialDay', 'Month', 'OperatingSystems', 'Browser',\n",
       "       'Region', 'TrafficType', 'Weekend', 'Revenue', 'Returning_Visitor'],\n",
       "      dtype='object')"
      ]
     },
     "execution_count": 58,
     "metadata": {},
     "output_type": "execute_result"
    }
   ],
   "source": [
    "result"
   ]
  },
  {
   "cell_type": "markdown",
   "id": "e0cba176-f08b-4e54-98fe-d9ead4fad7aa",
   "metadata": {},
   "source": [
    "### Create a DataFrame with required columns"
   ]
  },
  {
   "cell_type": "code",
   "execution_count": 59,
   "id": "17b4233e-a12a-4e36-be20-6ae40f66c9fd",
   "metadata": {},
   "outputs": [],
   "source": [
    "result = df[df.columns[1:]]"
   ]
  },
  {
   "cell_type": "code",
   "execution_count": 60,
   "id": "34c76fc6-ff12-412a-a967-20860ccaf43d",
   "metadata": {},
   "outputs": [
    {
     "data": {
      "text/html": [
       "<div>\n",
       "<style scoped>\n",
       "    .dataframe tbody tr th:only-of-type {\n",
       "        vertical-align: middle;\n",
       "    }\n",
       "\n",
       "    .dataframe tbody tr th {\n",
       "        vertical-align: top;\n",
       "    }\n",
       "\n",
       "    .dataframe thead th {\n",
       "        text-align: right;\n",
       "    }\n",
       "</style>\n",
       "<table border=\"1\" class=\"dataframe\">\n",
       "  <thead>\n",
       "    <tr style=\"text-align: right;\">\n",
       "      <th></th>\n",
       "      <th>Administrative_Duration</th>\n",
       "      <th>Informational</th>\n",
       "      <th>Informational_Duration</th>\n",
       "      <th>ProductRelated</th>\n",
       "      <th>ProductRelated_Duration</th>\n",
       "      <th>BounceRates</th>\n",
       "      <th>ExitRates</th>\n",
       "      <th>PageValues</th>\n",
       "      <th>SpecialDay</th>\n",
       "      <th>Month</th>\n",
       "      <th>OperatingSystems</th>\n",
       "      <th>Browser</th>\n",
       "      <th>Region</th>\n",
       "      <th>TrafficType</th>\n",
       "      <th>Weekend</th>\n",
       "      <th>Revenue</th>\n",
       "      <th>Returning_Visitor</th>\n",
       "    </tr>\n",
       "  </thead>\n",
       "  <tbody>\n",
       "    <tr>\n",
       "      <th>0</th>\n",
       "      <td>0.0</td>\n",
       "      <td>0</td>\n",
       "      <td>0.0</td>\n",
       "      <td>1</td>\n",
       "      <td>0.000000</td>\n",
       "      <td>0.200000</td>\n",
       "      <td>0.200000</td>\n",
       "      <td>0.000000</td>\n",
       "      <td>0.0</td>\n",
       "      <td>2.0</td>\n",
       "      <td>1</td>\n",
       "      <td>1</td>\n",
       "      <td>1</td>\n",
       "      <td>1</td>\n",
       "      <td>0</td>\n",
       "      <td>0</td>\n",
       "      <td>1</td>\n",
       "    </tr>\n",
       "    <tr>\n",
       "      <th>1</th>\n",
       "      <td>0.0</td>\n",
       "      <td>0</td>\n",
       "      <td>0.0</td>\n",
       "      <td>2</td>\n",
       "      <td>64.000000</td>\n",
       "      <td>0.000000</td>\n",
       "      <td>0.100000</td>\n",
       "      <td>0.000000</td>\n",
       "      <td>0.0</td>\n",
       "      <td>2.0</td>\n",
       "      <td>2</td>\n",
       "      <td>2</td>\n",
       "      <td>1</td>\n",
       "      <td>2</td>\n",
       "      <td>0</td>\n",
       "      <td>0</td>\n",
       "      <td>1</td>\n",
       "    </tr>\n",
       "    <tr>\n",
       "      <th>2</th>\n",
       "      <td>0.0</td>\n",
       "      <td>0</td>\n",
       "      <td>0.0</td>\n",
       "      <td>1</td>\n",
       "      <td>0.000000</td>\n",
       "      <td>0.200000</td>\n",
       "      <td>0.200000</td>\n",
       "      <td>0.000000</td>\n",
       "      <td>0.0</td>\n",
       "      <td>2.0</td>\n",
       "      <td>4</td>\n",
       "      <td>1</td>\n",
       "      <td>9</td>\n",
       "      <td>3</td>\n",
       "      <td>0</td>\n",
       "      <td>0</td>\n",
       "      <td>1</td>\n",
       "    </tr>\n",
       "    <tr>\n",
       "      <th>3</th>\n",
       "      <td>0.0</td>\n",
       "      <td>0</td>\n",
       "      <td>0.0</td>\n",
       "      <td>2</td>\n",
       "      <td>2.666667</td>\n",
       "      <td>0.050000</td>\n",
       "      <td>0.140000</td>\n",
       "      <td>0.000000</td>\n",
       "      <td>0.0</td>\n",
       "      <td>2.0</td>\n",
       "      <td>3</td>\n",
       "      <td>2</td>\n",
       "      <td>2</td>\n",
       "      <td>4</td>\n",
       "      <td>0</td>\n",
       "      <td>0</td>\n",
       "      <td>1</td>\n",
       "    </tr>\n",
       "    <tr>\n",
       "      <th>4</th>\n",
       "      <td>0.0</td>\n",
       "      <td>0</td>\n",
       "      <td>0.0</td>\n",
       "      <td>10</td>\n",
       "      <td>627.500000</td>\n",
       "      <td>0.020000</td>\n",
       "      <td>0.050000</td>\n",
       "      <td>0.000000</td>\n",
       "      <td>0.0</td>\n",
       "      <td>2.0</td>\n",
       "      <td>3</td>\n",
       "      <td>3</td>\n",
       "      <td>1</td>\n",
       "      <td>4</td>\n",
       "      <td>1</td>\n",
       "      <td>0</td>\n",
       "      <td>1</td>\n",
       "    </tr>\n",
       "    <tr>\n",
       "      <th>...</th>\n",
       "      <td>...</td>\n",
       "      <td>...</td>\n",
       "      <td>...</td>\n",
       "      <td>...</td>\n",
       "      <td>...</td>\n",
       "      <td>...</td>\n",
       "      <td>...</td>\n",
       "      <td>...</td>\n",
       "      <td>...</td>\n",
       "      <td>...</td>\n",
       "      <td>...</td>\n",
       "      <td>...</td>\n",
       "      <td>...</td>\n",
       "      <td>...</td>\n",
       "      <td>...</td>\n",
       "      <td>...</td>\n",
       "      <td>...</td>\n",
       "    </tr>\n",
       "    <tr>\n",
       "      <th>12325</th>\n",
       "      <td>145.0</td>\n",
       "      <td>0</td>\n",
       "      <td>0.0</td>\n",
       "      <td>53</td>\n",
       "      <td>1783.791667</td>\n",
       "      <td>0.007143</td>\n",
       "      <td>0.029031</td>\n",
       "      <td>12.241717</td>\n",
       "      <td>0.0</td>\n",
       "      <td>1.0</td>\n",
       "      <td>4</td>\n",
       "      <td>6</td>\n",
       "      <td>1</td>\n",
       "      <td>1</td>\n",
       "      <td>1</td>\n",
       "      <td>0</td>\n",
       "      <td>1</td>\n",
       "    </tr>\n",
       "    <tr>\n",
       "      <th>12326</th>\n",
       "      <td>0.0</td>\n",
       "      <td>0</td>\n",
       "      <td>0.0</td>\n",
       "      <td>5</td>\n",
       "      <td>465.750000</td>\n",
       "      <td>0.000000</td>\n",
       "      <td>0.021333</td>\n",
       "      <td>0.000000</td>\n",
       "      <td>0.0</td>\n",
       "      <td>7.0</td>\n",
       "      <td>3</td>\n",
       "      <td>2</td>\n",
       "      <td>1</td>\n",
       "      <td>8</td>\n",
       "      <td>1</td>\n",
       "      <td>0</td>\n",
       "      <td>1</td>\n",
       "    </tr>\n",
       "    <tr>\n",
       "      <th>12327</th>\n",
       "      <td>0.0</td>\n",
       "      <td>0</td>\n",
       "      <td>0.0</td>\n",
       "      <td>6</td>\n",
       "      <td>184.250000</td>\n",
       "      <td>0.083333</td>\n",
       "      <td>0.086667</td>\n",
       "      <td>0.000000</td>\n",
       "      <td>0.0</td>\n",
       "      <td>7.0</td>\n",
       "      <td>3</td>\n",
       "      <td>2</td>\n",
       "      <td>1</td>\n",
       "      <td>13</td>\n",
       "      <td>1</td>\n",
       "      <td>0</td>\n",
       "      <td>1</td>\n",
       "    </tr>\n",
       "    <tr>\n",
       "      <th>12328</th>\n",
       "      <td>75.0</td>\n",
       "      <td>0</td>\n",
       "      <td>0.0</td>\n",
       "      <td>15</td>\n",
       "      <td>346.000000</td>\n",
       "      <td>0.000000</td>\n",
       "      <td>0.021053</td>\n",
       "      <td>0.000000</td>\n",
       "      <td>0.0</td>\n",
       "      <td>7.0</td>\n",
       "      <td>2</td>\n",
       "      <td>2</td>\n",
       "      <td>3</td>\n",
       "      <td>11</td>\n",
       "      <td>0</td>\n",
       "      <td>0</td>\n",
       "      <td>1</td>\n",
       "    </tr>\n",
       "    <tr>\n",
       "      <th>12329</th>\n",
       "      <td>0.0</td>\n",
       "      <td>0</td>\n",
       "      <td>0.0</td>\n",
       "      <td>3</td>\n",
       "      <td>21.250000</td>\n",
       "      <td>0.000000</td>\n",
       "      <td>0.066667</td>\n",
       "      <td>0.000000</td>\n",
       "      <td>0.0</td>\n",
       "      <td>7.0</td>\n",
       "      <td>3</td>\n",
       "      <td>2</td>\n",
       "      <td>1</td>\n",
       "      <td>2</td>\n",
       "      <td>1</td>\n",
       "      <td>0</td>\n",
       "      <td>0</td>\n",
       "    </tr>\n",
       "  </tbody>\n",
       "</table>\n",
       "<p>12330 rows × 17 columns</p>\n",
       "</div>"
      ],
      "text/plain": [
       "       Administrative_Duration  Informational  Informational_Duration  \\\n",
       "0                          0.0              0                     0.0   \n",
       "1                          0.0              0                     0.0   \n",
       "2                          0.0              0                     0.0   \n",
       "3                          0.0              0                     0.0   \n",
       "4                          0.0              0                     0.0   \n",
       "...                        ...            ...                     ...   \n",
       "12325                    145.0              0                     0.0   \n",
       "12326                      0.0              0                     0.0   \n",
       "12327                      0.0              0                     0.0   \n",
       "12328                     75.0              0                     0.0   \n",
       "12329                      0.0              0                     0.0   \n",
       "\n",
       "       ProductRelated  ProductRelated_Duration  BounceRates  ExitRates  \\\n",
       "0                   1                 0.000000     0.200000   0.200000   \n",
       "1                   2                64.000000     0.000000   0.100000   \n",
       "2                   1                 0.000000     0.200000   0.200000   \n",
       "3                   2                 2.666667     0.050000   0.140000   \n",
       "4                  10               627.500000     0.020000   0.050000   \n",
       "...               ...                      ...          ...        ...   \n",
       "12325              53              1783.791667     0.007143   0.029031   \n",
       "12326               5               465.750000     0.000000   0.021333   \n",
       "12327               6               184.250000     0.083333   0.086667   \n",
       "12328              15               346.000000     0.000000   0.021053   \n",
       "12329               3                21.250000     0.000000   0.066667   \n",
       "\n",
       "       PageValues  SpecialDay  Month  OperatingSystems  Browser  Region  \\\n",
       "0        0.000000         0.0    2.0                 1        1       1   \n",
       "1        0.000000         0.0    2.0                 2        2       1   \n",
       "2        0.000000         0.0    2.0                 4        1       9   \n",
       "3        0.000000         0.0    2.0                 3        2       2   \n",
       "4        0.000000         0.0    2.0                 3        3       1   \n",
       "...           ...         ...    ...               ...      ...     ...   \n",
       "12325   12.241717         0.0    1.0                 4        6       1   \n",
       "12326    0.000000         0.0    7.0                 3        2       1   \n",
       "12327    0.000000         0.0    7.0                 3        2       1   \n",
       "12328    0.000000         0.0    7.0                 2        2       3   \n",
       "12329    0.000000         0.0    7.0                 3        2       1   \n",
       "\n",
       "       TrafficType  Weekend  Revenue  Returning_Visitor  \n",
       "0                1        0        0                  1  \n",
       "1                2        0        0                  1  \n",
       "2                3        0        0                  1  \n",
       "3                4        0        0                  1  \n",
       "4                4        1        0                  1  \n",
       "...            ...      ...      ...                ...  \n",
       "12325            1        1        0                  1  \n",
       "12326            8        1        0                  1  \n",
       "12327           13        1        0                  1  \n",
       "12328           11        0        0                  1  \n",
       "12329            2        1        0                  0  \n",
       "\n",
       "[12330 rows x 17 columns]"
      ]
     },
     "execution_count": 60,
     "metadata": {},
     "output_type": "execute_result"
    }
   ],
   "source": [
    "result"
   ]
  },
  {
   "cell_type": "markdown",
   "id": "63ddcaf5-cf2d-4248-bf5d-e869761bcd7d",
   "metadata": {},
   "source": [
    "# Correlation"
   ]
  },
  {
   "cell_type": "code",
   "execution_count": 61,
   "id": "b4c3b4a9-ee4f-49e6-b21b-175f07ba89e0",
   "metadata": {},
   "outputs": [
    {
     "data": {
      "text/html": [
       "<div>\n",
       "<style scoped>\n",
       "    .dataframe tbody tr th:only-of-type {\n",
       "        vertical-align: middle;\n",
       "    }\n",
       "\n",
       "    .dataframe tbody tr th {\n",
       "        vertical-align: top;\n",
       "    }\n",
       "\n",
       "    .dataframe thead th {\n",
       "        text-align: right;\n",
       "    }\n",
       "</style>\n",
       "<table border=\"1\" class=\"dataframe\">\n",
       "  <thead>\n",
       "    <tr style=\"text-align: right;\">\n",
       "      <th></th>\n",
       "      <th>Administrative_Duration</th>\n",
       "      <th>Informational</th>\n",
       "      <th>Informational_Duration</th>\n",
       "      <th>ProductRelated</th>\n",
       "      <th>ProductRelated_Duration</th>\n",
       "      <th>BounceRates</th>\n",
       "      <th>ExitRates</th>\n",
       "      <th>PageValues</th>\n",
       "      <th>SpecialDay</th>\n",
       "      <th>Month</th>\n",
       "      <th>OperatingSystems</th>\n",
       "      <th>Browser</th>\n",
       "      <th>Region</th>\n",
       "      <th>TrafficType</th>\n",
       "      <th>Weekend</th>\n",
       "      <th>Revenue</th>\n",
       "      <th>Returning_Visitor</th>\n",
       "    </tr>\n",
       "  </thead>\n",
       "  <tbody>\n",
       "    <tr>\n",
       "      <th>Administrative_Duration</th>\n",
       "      <td>1.000000</td>\n",
       "      <td>0.302710</td>\n",
       "      <td>0.238031</td>\n",
       "      <td>0.289087</td>\n",
       "      <td>0.355422</td>\n",
       "      <td>-0.144170</td>\n",
       "      <td>-0.205798</td>\n",
       "      <td>0.067608</td>\n",
       "      <td>-0.073304</td>\n",
       "      <td>0.029061</td>\n",
       "      <td>-0.007343</td>\n",
       "      <td>-0.015392</td>\n",
       "      <td>-0.005561</td>\n",
       "      <td>-0.014376</td>\n",
       "      <td>0.014990</td>\n",
       "      <td>0.093587</td>\n",
       "      <td>-0.022525</td>\n",
       "    </tr>\n",
       "    <tr>\n",
       "      <th>Informational</th>\n",
       "      <td>0.302710</td>\n",
       "      <td>1.000000</td>\n",
       "      <td>0.618955</td>\n",
       "      <td>0.374164</td>\n",
       "      <td>0.387505</td>\n",
       "      <td>-0.116114</td>\n",
       "      <td>-0.163666</td>\n",
       "      <td>0.048632</td>\n",
       "      <td>-0.048219</td>\n",
       "      <td>0.019743</td>\n",
       "      <td>-0.009527</td>\n",
       "      <td>-0.038235</td>\n",
       "      <td>-0.029169</td>\n",
       "      <td>-0.034491</td>\n",
       "      <td>0.035785</td>\n",
       "      <td>0.095200</td>\n",
       "      <td>0.057399</td>\n",
       "    </tr>\n",
       "    <tr>\n",
       "      <th>Informational_Duration</th>\n",
       "      <td>0.238031</td>\n",
       "      <td>0.618955</td>\n",
       "      <td>1.000000</td>\n",
       "      <td>0.280046</td>\n",
       "      <td>0.347364</td>\n",
       "      <td>-0.074067</td>\n",
       "      <td>-0.105276</td>\n",
       "      <td>0.030861</td>\n",
       "      <td>-0.030577</td>\n",
       "      <td>0.005987</td>\n",
       "      <td>-0.009579</td>\n",
       "      <td>-0.019285</td>\n",
       "      <td>-0.027144</td>\n",
       "      <td>-0.024675</td>\n",
       "      <td>0.024078</td>\n",
       "      <td>0.070345</td>\n",
       "      <td>0.045501</td>\n",
       "    </tr>\n",
       "    <tr>\n",
       "      <th>ProductRelated</th>\n",
       "      <td>0.289087</td>\n",
       "      <td>0.374164</td>\n",
       "      <td>0.280046</td>\n",
       "      <td>1.000000</td>\n",
       "      <td>0.860927</td>\n",
       "      <td>-0.204578</td>\n",
       "      <td>-0.292526</td>\n",
       "      <td>0.056282</td>\n",
       "      <td>-0.023958</td>\n",
       "      <td>0.070299</td>\n",
       "      <td>0.004290</td>\n",
       "      <td>-0.013146</td>\n",
       "      <td>-0.038122</td>\n",
       "      <td>-0.043064</td>\n",
       "      <td>0.016092</td>\n",
       "      <td>0.158538</td>\n",
       "      <td>0.128738</td>\n",
       "    </tr>\n",
       "    <tr>\n",
       "      <th>ProductRelated_Duration</th>\n",
       "      <td>0.355422</td>\n",
       "      <td>0.387505</td>\n",
       "      <td>0.347364</td>\n",
       "      <td>0.860927</td>\n",
       "      <td>1.000000</td>\n",
       "      <td>-0.184541</td>\n",
       "      <td>-0.251984</td>\n",
       "      <td>0.052823</td>\n",
       "      <td>-0.036380</td>\n",
       "      <td>0.061186</td>\n",
       "      <td>0.002976</td>\n",
       "      <td>-0.007380</td>\n",
       "      <td>-0.033091</td>\n",
       "      <td>-0.036377</td>\n",
       "      <td>0.007311</td>\n",
       "      <td>0.152373</td>\n",
       "      <td>0.120489</td>\n",
       "    </tr>\n",
       "    <tr>\n",
       "      <th>BounceRates</th>\n",
       "      <td>-0.144170</td>\n",
       "      <td>-0.116114</td>\n",
       "      <td>-0.074067</td>\n",
       "      <td>-0.204578</td>\n",
       "      <td>-0.184541</td>\n",
       "      <td>1.000000</td>\n",
       "      <td>0.913004</td>\n",
       "      <td>-0.119386</td>\n",
       "      <td>0.072702</td>\n",
       "      <td>-0.023763</td>\n",
       "      <td>0.023823</td>\n",
       "      <td>-0.015772</td>\n",
       "      <td>-0.006485</td>\n",
       "      <td>0.078286</td>\n",
       "      <td>-0.046514</td>\n",
       "      <td>-0.150673</td>\n",
       "      <td>0.129908</td>\n",
       "    </tr>\n",
       "    <tr>\n",
       "      <th>ExitRates</th>\n",
       "      <td>-0.205798</td>\n",
       "      <td>-0.163666</td>\n",
       "      <td>-0.105276</td>\n",
       "      <td>-0.292526</td>\n",
       "      <td>-0.251984</td>\n",
       "      <td>0.913004</td>\n",
       "      <td>1.000000</td>\n",
       "      <td>-0.174498</td>\n",
       "      <td>0.102242</td>\n",
       "      <td>-0.039049</td>\n",
       "      <td>0.014567</td>\n",
       "      <td>-0.004442</td>\n",
       "      <td>-0.008907</td>\n",
       "      <td>0.078616</td>\n",
       "      <td>-0.062587</td>\n",
       "      <td>-0.207071</td>\n",
       "      <td>0.171987</td>\n",
       "    </tr>\n",
       "    <tr>\n",
       "      <th>PageValues</th>\n",
       "      <td>0.067608</td>\n",
       "      <td>0.048632</td>\n",
       "      <td>0.030861</td>\n",
       "      <td>0.056282</td>\n",
       "      <td>0.052823</td>\n",
       "      <td>-0.119386</td>\n",
       "      <td>-0.174498</td>\n",
       "      <td>1.000000</td>\n",
       "      <td>-0.063541</td>\n",
       "      <td>0.021780</td>\n",
       "      <td>0.018508</td>\n",
       "      <td>0.045592</td>\n",
       "      <td>0.011315</td>\n",
       "      <td>0.012532</td>\n",
       "      <td>0.012002</td>\n",
       "      <td>0.492569</td>\n",
       "      <td>-0.115825</td>\n",
       "    </tr>\n",
       "    <tr>\n",
       "      <th>SpecialDay</th>\n",
       "      <td>-0.073304</td>\n",
       "      <td>-0.048219</td>\n",
       "      <td>-0.030577</td>\n",
       "      <td>-0.023958</td>\n",
       "      <td>-0.036380</td>\n",
       "      <td>0.072702</td>\n",
       "      <td>0.102242</td>\n",
       "      <td>-0.063541</td>\n",
       "      <td>1.000000</td>\n",
       "      <td>0.079341</td>\n",
       "      <td>0.012652</td>\n",
       "      <td>0.003499</td>\n",
       "      <td>-0.016098</td>\n",
       "      <td>0.052301</td>\n",
       "      <td>-0.016767</td>\n",
       "      <td>-0.082305</td>\n",
       "      <td>0.087123</td>\n",
       "    </tr>\n",
       "    <tr>\n",
       "      <th>Month</th>\n",
       "      <td>0.029061</td>\n",
       "      <td>0.019743</td>\n",
       "      <td>0.005987</td>\n",
       "      <td>0.070299</td>\n",
       "      <td>0.061186</td>\n",
       "      <td>-0.023763</td>\n",
       "      <td>-0.039049</td>\n",
       "      <td>0.021780</td>\n",
       "      <td>0.079341</td>\n",
       "      <td>1.000000</td>\n",
       "      <td>-0.029580</td>\n",
       "      <td>-0.045913</td>\n",
       "      <td>-0.032530</td>\n",
       "      <td>0.041839</td>\n",
       "      <td>0.029132</td>\n",
       "      <td>0.080150</td>\n",
       "      <td>0.036689</td>\n",
       "    </tr>\n",
       "    <tr>\n",
       "      <th>OperatingSystems</th>\n",
       "      <td>-0.007343</td>\n",
       "      <td>-0.009527</td>\n",
       "      <td>-0.009579</td>\n",
       "      <td>0.004290</td>\n",
       "      <td>0.002976</td>\n",
       "      <td>0.023823</td>\n",
       "      <td>0.014567</td>\n",
       "      <td>0.018508</td>\n",
       "      <td>0.012652</td>\n",
       "      <td>-0.029580</td>\n",
       "      <td>1.000000</td>\n",
       "      <td>0.223013</td>\n",
       "      <td>0.076775</td>\n",
       "      <td>0.189154</td>\n",
       "      <td>0.000284</td>\n",
       "      <td>-0.014668</td>\n",
       "      <td>-0.038345</td>\n",
       "    </tr>\n",
       "    <tr>\n",
       "      <th>Browser</th>\n",
       "      <td>-0.015392</td>\n",
       "      <td>-0.038235</td>\n",
       "      <td>-0.019285</td>\n",
       "      <td>-0.013146</td>\n",
       "      <td>-0.007380</td>\n",
       "      <td>-0.015772</td>\n",
       "      <td>-0.004442</td>\n",
       "      <td>0.045592</td>\n",
       "      <td>0.003499</td>\n",
       "      <td>-0.045913</td>\n",
       "      <td>0.223013</td>\n",
       "      <td>1.000000</td>\n",
       "      <td>0.097393</td>\n",
       "      <td>0.111938</td>\n",
       "      <td>-0.040261</td>\n",
       "      <td>0.023984</td>\n",
       "      <td>-0.058836</td>\n",
       "    </tr>\n",
       "    <tr>\n",
       "      <th>Region</th>\n",
       "      <td>-0.005561</td>\n",
       "      <td>-0.029169</td>\n",
       "      <td>-0.027144</td>\n",
       "      <td>-0.038122</td>\n",
       "      <td>-0.033091</td>\n",
       "      <td>-0.006485</td>\n",
       "      <td>-0.008907</td>\n",
       "      <td>0.011315</td>\n",
       "      <td>-0.016098</td>\n",
       "      <td>-0.032530</td>\n",
       "      <td>0.076775</td>\n",
       "      <td>0.097393</td>\n",
       "      <td>1.000000</td>\n",
       "      <td>0.047520</td>\n",
       "      <td>-0.000691</td>\n",
       "      <td>-0.011595</td>\n",
       "      <td>-0.050829</td>\n",
       "    </tr>\n",
       "    <tr>\n",
       "      <th>TrafficType</th>\n",
       "      <td>-0.014376</td>\n",
       "      <td>-0.034491</td>\n",
       "      <td>-0.024675</td>\n",
       "      <td>-0.043064</td>\n",
       "      <td>-0.036377</td>\n",
       "      <td>0.078286</td>\n",
       "      <td>0.078616</td>\n",
       "      <td>0.012532</td>\n",
       "      <td>0.052301</td>\n",
       "      <td>0.041839</td>\n",
       "      <td>0.189154</td>\n",
       "      <td>0.111938</td>\n",
       "      <td>0.047520</td>\n",
       "      <td>1.000000</td>\n",
       "      <td>-0.002221</td>\n",
       "      <td>-0.005113</td>\n",
       "      <td>-0.026219</td>\n",
       "    </tr>\n",
       "    <tr>\n",
       "      <th>Weekend</th>\n",
       "      <td>0.014990</td>\n",
       "      <td>0.035785</td>\n",
       "      <td>0.024078</td>\n",
       "      <td>0.016092</td>\n",
       "      <td>0.007311</td>\n",
       "      <td>-0.046514</td>\n",
       "      <td>-0.062587</td>\n",
       "      <td>0.012002</td>\n",
       "      <td>-0.016767</td>\n",
       "      <td>0.029132</td>\n",
       "      <td>0.000284</td>\n",
       "      <td>-0.040261</td>\n",
       "      <td>-0.000691</td>\n",
       "      <td>-0.002221</td>\n",
       "      <td>1.000000</td>\n",
       "      <td>0.029295</td>\n",
       "      <td>-0.039444</td>\n",
       "    </tr>\n",
       "    <tr>\n",
       "      <th>Revenue</th>\n",
       "      <td>0.093587</td>\n",
       "      <td>0.095200</td>\n",
       "      <td>0.070345</td>\n",
       "      <td>0.158538</td>\n",
       "      <td>0.152373</td>\n",
       "      <td>-0.150673</td>\n",
       "      <td>-0.207071</td>\n",
       "      <td>0.492569</td>\n",
       "      <td>-0.082305</td>\n",
       "      <td>0.080150</td>\n",
       "      <td>-0.014668</td>\n",
       "      <td>0.023984</td>\n",
       "      <td>-0.011595</td>\n",
       "      <td>-0.005113</td>\n",
       "      <td>0.029295</td>\n",
       "      <td>1.000000</td>\n",
       "      <td>-0.103843</td>\n",
       "    </tr>\n",
       "    <tr>\n",
       "      <th>Returning_Visitor</th>\n",
       "      <td>-0.022525</td>\n",
       "      <td>0.057399</td>\n",
       "      <td>0.045501</td>\n",
       "      <td>0.128738</td>\n",
       "      <td>0.120489</td>\n",
       "      <td>0.129908</td>\n",
       "      <td>0.171987</td>\n",
       "      <td>-0.115825</td>\n",
       "      <td>0.087123</td>\n",
       "      <td>0.036689</td>\n",
       "      <td>-0.038345</td>\n",
       "      <td>-0.058836</td>\n",
       "      <td>-0.050829</td>\n",
       "      <td>-0.026219</td>\n",
       "      <td>-0.039444</td>\n",
       "      <td>-0.103843</td>\n",
       "      <td>1.000000</td>\n",
       "    </tr>\n",
       "  </tbody>\n",
       "</table>\n",
       "</div>"
      ],
      "text/plain": [
       "                         Administrative_Duration  Informational  \\\n",
       "Administrative_Duration                 1.000000       0.302710   \n",
       "Informational                           0.302710       1.000000   \n",
       "Informational_Duration                  0.238031       0.618955   \n",
       "ProductRelated                          0.289087       0.374164   \n",
       "ProductRelated_Duration                 0.355422       0.387505   \n",
       "BounceRates                            -0.144170      -0.116114   \n",
       "ExitRates                              -0.205798      -0.163666   \n",
       "PageValues                              0.067608       0.048632   \n",
       "SpecialDay                             -0.073304      -0.048219   \n",
       "Month                                   0.029061       0.019743   \n",
       "OperatingSystems                       -0.007343      -0.009527   \n",
       "Browser                                -0.015392      -0.038235   \n",
       "Region                                 -0.005561      -0.029169   \n",
       "TrafficType                            -0.014376      -0.034491   \n",
       "Weekend                                 0.014990       0.035785   \n",
       "Revenue                                 0.093587       0.095200   \n",
       "Returning_Visitor                      -0.022525       0.057399   \n",
       "\n",
       "                         Informational_Duration  ProductRelated  \\\n",
       "Administrative_Duration                0.238031        0.289087   \n",
       "Informational                          0.618955        0.374164   \n",
       "Informational_Duration                 1.000000        0.280046   \n",
       "ProductRelated                         0.280046        1.000000   \n",
       "ProductRelated_Duration                0.347364        0.860927   \n",
       "BounceRates                           -0.074067       -0.204578   \n",
       "ExitRates                             -0.105276       -0.292526   \n",
       "PageValues                             0.030861        0.056282   \n",
       "SpecialDay                            -0.030577       -0.023958   \n",
       "Month                                  0.005987        0.070299   \n",
       "OperatingSystems                      -0.009579        0.004290   \n",
       "Browser                               -0.019285       -0.013146   \n",
       "Region                                -0.027144       -0.038122   \n",
       "TrafficType                           -0.024675       -0.043064   \n",
       "Weekend                                0.024078        0.016092   \n",
       "Revenue                                0.070345        0.158538   \n",
       "Returning_Visitor                      0.045501        0.128738   \n",
       "\n",
       "                         ProductRelated_Duration  BounceRates  ExitRates  \\\n",
       "Administrative_Duration                 0.355422    -0.144170  -0.205798   \n",
       "Informational                           0.387505    -0.116114  -0.163666   \n",
       "Informational_Duration                  0.347364    -0.074067  -0.105276   \n",
       "ProductRelated                          0.860927    -0.204578  -0.292526   \n",
       "ProductRelated_Duration                 1.000000    -0.184541  -0.251984   \n",
       "BounceRates                            -0.184541     1.000000   0.913004   \n",
       "ExitRates                              -0.251984     0.913004   1.000000   \n",
       "PageValues                              0.052823    -0.119386  -0.174498   \n",
       "SpecialDay                             -0.036380     0.072702   0.102242   \n",
       "Month                                   0.061186    -0.023763  -0.039049   \n",
       "OperatingSystems                        0.002976     0.023823   0.014567   \n",
       "Browser                                -0.007380    -0.015772  -0.004442   \n",
       "Region                                 -0.033091    -0.006485  -0.008907   \n",
       "TrafficType                            -0.036377     0.078286   0.078616   \n",
       "Weekend                                 0.007311    -0.046514  -0.062587   \n",
       "Revenue                                 0.152373    -0.150673  -0.207071   \n",
       "Returning_Visitor                       0.120489     0.129908   0.171987   \n",
       "\n",
       "                         PageValues  SpecialDay     Month  OperatingSystems  \\\n",
       "Administrative_Duration    0.067608   -0.073304  0.029061         -0.007343   \n",
       "Informational              0.048632   -0.048219  0.019743         -0.009527   \n",
       "Informational_Duration     0.030861   -0.030577  0.005987         -0.009579   \n",
       "ProductRelated             0.056282   -0.023958  0.070299          0.004290   \n",
       "ProductRelated_Duration    0.052823   -0.036380  0.061186          0.002976   \n",
       "BounceRates               -0.119386    0.072702 -0.023763          0.023823   \n",
       "ExitRates                 -0.174498    0.102242 -0.039049          0.014567   \n",
       "PageValues                 1.000000   -0.063541  0.021780          0.018508   \n",
       "SpecialDay                -0.063541    1.000000  0.079341          0.012652   \n",
       "Month                      0.021780    0.079341  1.000000         -0.029580   \n",
       "OperatingSystems           0.018508    0.012652 -0.029580          1.000000   \n",
       "Browser                    0.045592    0.003499 -0.045913          0.223013   \n",
       "Region                     0.011315   -0.016098 -0.032530          0.076775   \n",
       "TrafficType                0.012532    0.052301  0.041839          0.189154   \n",
       "Weekend                    0.012002   -0.016767  0.029132          0.000284   \n",
       "Revenue                    0.492569   -0.082305  0.080150         -0.014668   \n",
       "Returning_Visitor         -0.115825    0.087123  0.036689         -0.038345   \n",
       "\n",
       "                          Browser    Region  TrafficType   Weekend   Revenue  \\\n",
       "Administrative_Duration -0.015392 -0.005561    -0.014376  0.014990  0.093587   \n",
       "Informational           -0.038235 -0.029169    -0.034491  0.035785  0.095200   \n",
       "Informational_Duration  -0.019285 -0.027144    -0.024675  0.024078  0.070345   \n",
       "ProductRelated          -0.013146 -0.038122    -0.043064  0.016092  0.158538   \n",
       "ProductRelated_Duration -0.007380 -0.033091    -0.036377  0.007311  0.152373   \n",
       "BounceRates             -0.015772 -0.006485     0.078286 -0.046514 -0.150673   \n",
       "ExitRates               -0.004442 -0.008907     0.078616 -0.062587 -0.207071   \n",
       "PageValues               0.045592  0.011315     0.012532  0.012002  0.492569   \n",
       "SpecialDay               0.003499 -0.016098     0.052301 -0.016767 -0.082305   \n",
       "Month                   -0.045913 -0.032530     0.041839  0.029132  0.080150   \n",
       "OperatingSystems         0.223013  0.076775     0.189154  0.000284 -0.014668   \n",
       "Browser                  1.000000  0.097393     0.111938 -0.040261  0.023984   \n",
       "Region                   0.097393  1.000000     0.047520 -0.000691 -0.011595   \n",
       "TrafficType              0.111938  0.047520     1.000000 -0.002221 -0.005113   \n",
       "Weekend                 -0.040261 -0.000691    -0.002221  1.000000  0.029295   \n",
       "Revenue                  0.023984 -0.011595    -0.005113  0.029295  1.000000   \n",
       "Returning_Visitor       -0.058836 -0.050829    -0.026219 -0.039444 -0.103843   \n",
       "\n",
       "                         Returning_Visitor  \n",
       "Administrative_Duration          -0.022525  \n",
       "Informational                     0.057399  \n",
       "Informational_Duration            0.045501  \n",
       "ProductRelated                    0.128738  \n",
       "ProductRelated_Duration           0.120489  \n",
       "BounceRates                       0.129908  \n",
       "ExitRates                         0.171987  \n",
       "PageValues                       -0.115825  \n",
       "SpecialDay                        0.087123  \n",
       "Month                             0.036689  \n",
       "OperatingSystems                 -0.038345  \n",
       "Browser                          -0.058836  \n",
       "Region                           -0.050829  \n",
       "TrafficType                      -0.026219  \n",
       "Weekend                          -0.039444  \n",
       "Revenue                          -0.103843  \n",
       "Returning_Visitor                 1.000000  "
      ]
     },
     "execution_count": 61,
     "metadata": {},
     "output_type": "execute_result"
    }
   ],
   "source": [
    "result.corr()"
   ]
  },
  {
   "cell_type": "code",
   "execution_count": 62,
   "id": "7b1b6cd6-5550-4fc6-ad0a-99b9cf85f76d",
   "metadata": {},
   "outputs": [
    {
     "data": {
      "text/plain": [
       "Administrative_Duration    0.093587\n",
       "Informational              0.095200\n",
       "Informational_Duration     0.070345\n",
       "ProductRelated             0.158538\n",
       "ProductRelated_Duration    0.152373\n",
       "BounceRates               -0.150673\n",
       "ExitRates                 -0.207071\n",
       "PageValues                 0.492569\n",
       "SpecialDay                -0.082305\n",
       "Month                      0.080150\n",
       "OperatingSystems          -0.014668\n",
       "Browser                    0.023984\n",
       "Region                    -0.011595\n",
       "TrafficType               -0.005113\n",
       "Weekend                    0.029295\n",
       "Revenue                    1.000000\n",
       "Returning_Visitor         -0.103843\n",
       "Name: Revenue, dtype: float64"
      ]
     },
     "execution_count": 62,
     "metadata": {},
     "output_type": "execute_result"
    }
   ],
   "source": [
    "result.corr()['Revenue']"
   ]
  },
  {
   "cell_type": "code",
   "execution_count": 63,
   "id": "be8d9cf6-ac2a-4514-a4ff-6b9269529365",
   "metadata": {},
   "outputs": [],
   "source": [
    "result1 = result.corr()['Revenue'].sort_values(ascending=False)"
   ]
  },
  {
   "cell_type": "code",
   "execution_count": 64,
   "id": "50546dd1-b2a5-4d14-bac0-5c24d0e0efdf",
   "metadata": {},
   "outputs": [
    {
     "data": {
      "text/plain": [
       "Revenue                    1.000000\n",
       "PageValues                 0.492569\n",
       "ProductRelated             0.158538\n",
       "ProductRelated_Duration    0.152373\n",
       "Informational              0.095200\n",
       "Administrative_Duration    0.093587\n",
       "Month                      0.080150\n",
       "Informational_Duration     0.070345\n",
       "Weekend                    0.029295\n",
       "Browser                    0.023984\n",
       "TrafficType               -0.005113\n",
       "Region                    -0.011595\n",
       "OperatingSystems          -0.014668\n",
       "SpecialDay                -0.082305\n",
       "Returning_Visitor         -0.103843\n",
       "BounceRates               -0.150673\n",
       "ExitRates                 -0.207071\n",
       "Name: Revenue, dtype: float64"
      ]
     },
     "execution_count": 64,
     "metadata": {},
     "output_type": "execute_result"
    }
   ],
   "source": [
    "result1"
   ]
  },
  {
   "cell_type": "markdown",
   "id": "04e818ef-6f1f-49e5-bceb-52311b8d0c7d",
   "metadata": {},
   "source": [
    "# Create features and target"
   ]
  },
  {
   "cell_type": "code",
   "execution_count": 65,
   "id": "47dc255d-1c4a-4eab-bf19-f66044a47fbb",
   "metadata": {},
   "outputs": [],
   "source": [
    "X = df.drop(['Revenue'], axis=1)"
   ]
  },
  {
   "cell_type": "code",
   "execution_count": 66,
   "id": "8eb98bd9-7635-49bb-ba6e-743c67062c2c",
   "metadata": {},
   "outputs": [],
   "source": [
    "y = df['Revenue']"
   ]
  },
  {
   "cell_type": "markdown",
   "id": "2d6948f0-a410-48e5-bb9b-f8b30199c80b",
   "metadata": {},
   "source": [
    "# Creating train and test datasets"
   ]
  },
  {
   "cell_type": "markdown",
   "id": "1c938b11-10ae-47c8-93b3-ec07022db37c",
   "metadata": {},
   "source": [
    "- We need to split(randomly) data into training (70%) and testing (30%)\n",
    "datasets.\n",
    "- We can split data by using train_test_split(X, y, test_size = 0.3,\n",
    "random_state) function.\n",
    "- The random_state value ensures we get reproducible results each time\n",
    "we run the code."
   ]
  },
  {
   "cell_type": "code",
   "execution_count": 67,
   "id": "fe6ca1ea-ed4e-4de7-b6c2-61f537ccb8e4",
   "metadata": {},
   "outputs": [],
   "source": [
    "X_train, X_test, y_train, y_test = train_test_split(X, y,test_size = 0.3, random_state = 0)\n"
   ]
  },
  {
   "cell_type": "markdown",
   "id": "a2c07ad1-13ec-4188-864f-5ea9d69f269e",
   "metadata": {},
   "source": [
    "# Create a model pipeline\n",
    "- Now we need to create a model pipeline for our project\n",
    "- This Pipeline handles the encoding of data using the ColumnTransformer().\n",
    "- By using this we can even avoid like manually generating some of the features we created above.\n",
    "- This also imputes any missing values with realistic values.\n",
    "- It scales the data before we pass it to the model \n",
    "- By using SelectKBest() we can select the optimal features. From this we \n",
    "are getting around 6 features as per shown in Pearson correlation\n",
    "- By using SMOTE(Synthetic Minority Oversampling Technique) we can handle class imbalance.\n",
    "ject.ce.model."
   ]
  },
  {
   "cell_type": "markdown",
   "id": "0612b49c-a5aa-4e88-8514-3805485a6f87",
   "metadata": {},
   "source": [
    "# A function to create model pipeline"
   ]
  },
  {
   "cell_type": "code",
   "execution_count": 68,
   "id": "94c7b677-e852-4ade-a19c-f9bf2296c15b",
   "metadata": {},
   "outputs": [],
   "source": [
    "def model_pipeline(X, model):\n",
    "    n_c = X.select_dtypes(exclude=['object']).columns.values.tolist()\n",
    "    c_c = X.select_dtypes(include=['object']).columns.values.tolist()\n",
    "    numeric_columns = n_c\n",
    "    categorical_columns = c_c\n",
    "    numeric_pipeline = SimpleImputer(strategy = 'constant')\n",
    "    categorical_pipeline = OneHotEncoder(handle_unknown ='ignore')\n",
    "    a = ('numeric', numeric_pipeline, numeric_columns)\n",
    "    b = ('categorical', categorical_pipeline, categorical_columns)\n",
    "    preprocessor = ColumnTransformer(transformers = [a, b],\n",
    "                                    remainder = 'passthrough')\n",
    "    c = ('preprocessor', preprocessor)\n",
    "    d = ('smote', SMOTE(random_state = 1))\n",
    "    e = ('scaler', MinMaxScaler())\n",
    "    f = ('feature_selection', SelectKBest(score_func = chi2, k =6))\n",
    "    g = ('model', model)\n",
    "    bundled_pipeline = imbpipeline(steps = [c, d, e, f, g])\n",
    "    return bundled_pipeline"
   ]
  },
  {
   "cell_type": "markdown",
   "id": "f5bced5d-966c-4e0f-873d-802f831635d0",
   "metadata": {},
   "source": [
    "# model_pipeline(X, model) function explanation\n",
    "- model_pipleline(X, model) is a user defined function for this project.\n",
    "- This function returns pipeline to pre-process data and bundle with a model.\n",
    "- There are two arguments for this function X means X_train data and model means model object Ex: XGBClassifier object."
   ]
  },
  {
   "cell_type": "markdown",
   "id": "62ba721a-a0e5-4e3e-954f-6a8e6fec5e64",
   "metadata": {},
   "source": [
    "# A function to select model"
   ]
  },
  {
   "cell_type": "code",
   "execution_count": 69,
   "id": "5e3ee72c-c7d6-451e-9da6-bf4f5d70c790",
   "metadata": {},
   "outputs": [],
   "source": [
    "def select_model(X, y, pipeline=None):\n",
    "\n",
    "    classifiers = {}\n",
    "    \n",
    "    c_d4 = {\"RandomForestClassifier\": RandomForestClassifier()}\n",
    "    classifiers.update(c_d4)\n",
    "\n",
    "    c_d5 = {\"DecisionTreeClassifier\": DecisionTreeClassifier()}\n",
    "    classifiers.update(c_d5)\n",
    "\n",
    "    c_d9 = {\"KNeighborsClassifier\": KNeighborsClassifier()}\n",
    "    classifiers.update(c_d9)\n",
    "\n",
    "    c_d10 = {\"RidgeClassifier\": RidgeClassifier()}\n",
    "    classifiers.update(c_d10)\n",
    "\n",
    "    c_d13 = {\"BernoulliNB\": BernoulliNB()}\n",
    "    classifiers.update(c_d13)\n",
    "\n",
    "    c_d14 = {\"SVC\": SVC()}\n",
    "    classifiers.update(c_d14)\n",
    "   \n",
    "    cols = ['model', 'run_time', 'roc_auc']\n",
    "    df_models = pd.DataFrame(columns = cols)\n",
    "\n",
    "    for key in classifiers:        \n",
    "        start_time = time.time() \n",
    "        print()\n",
    "        print(\"Step 12: model_pipeline run successfully on\", key)\n",
    "\n",
    "        pipeline = model_pipeline(X_train, classifiers[key])\n",
    "        \n",
    "        cv = cross_val_score(pipeline, X, y, cv=10, scoring='roc_auc')\n",
    "\n",
    "        row = {'model': key,\n",
    "               'run_time': format(round((time.time() - start_time)/60,2)),\n",
    "               'roc_auc': cv.mean(),}\n",
    "\n",
    "        df_models = pd.concat([df_models, pd.DataFrame([row])], ignore_index=True)\n",
    "        \n",
    "    df_models = df_models.sort_values(by='roc_auc', ascending=False)\n",
    "\t\n",
    "    return df_models"
   ]
  },
  {
   "cell_type": "markdown",
   "id": "3766f4c9-3199-44b4-abc9-a104fa1c2f03",
   "metadata": {},
   "source": [
    "# Function explanation\n",
    "- select_model(X, y, pipeline = None) is user defined function created by\n",
    "us.\n",
    "- This function takes 2 non default parameters and 1 default parameter\n",
    "- X (object) : Pandas dataframe containing X_train data.\n",
    "- y (object) : Pandas dataframe containing y_train data.\n",
    "- pipeline : Pipeline from model_pipeline()."
   ]
  },
  {
   "cell_type": "markdown",
   "id": "f0d54f77-6881-4752-aa19-60c6b7580356",
   "metadata": {},
   "source": [
    "# Access select_model function"
   ]
  },
  {
   "cell_type": "code",
   "execution_count": 70,
   "id": "b4597c6d-d6f9-4526-a3a0-6a6d7039e874",
   "metadata": {},
   "outputs": [
    {
     "name": "stdout",
     "output_type": "stream",
     "text": [
      "\n",
      "Step 12: model_pipeline run successfully on RandomForestClassifier\n"
     ]
    },
    {
     "name": "stderr",
     "output_type": "stream",
     "text": [
      "C:\\Users\\Ausu\\AppData\\Local\\Temp\\ipykernel_5188\\3385109619.py:39: FutureWarning: The behavior of DataFrame concatenation with empty or all-NA entries is deprecated. In a future version, this will no longer exclude empty or all-NA columns when determining the result dtypes. To retain the old behavior, exclude the relevant entries before the concat operation.\n",
      "  df_models = pd.concat([df_models, pd.DataFrame([row])], ignore_index=True)\n"
     ]
    },
    {
     "name": "stdout",
     "output_type": "stream",
     "text": [
      "\n",
      "Step 12: model_pipeline run successfully on DecisionTreeClassifier\n",
      "\n",
      "Step 12: model_pipeline run successfully on KNeighborsClassifier\n",
      "\n",
      "Step 12: model_pipeline run successfully on RidgeClassifier\n",
      "\n",
      "Step 12: model_pipeline run successfully on BernoulliNB\n",
      "\n",
      "Step 12: model_pipeline run successfully on SVC\n"
     ]
    }
   ],
   "source": [
    "models = select_model(X_train, y_train)"
   ]
  },
  {
   "cell_type": "markdown",
   "id": "25ba4ac0-eb02-4b6d-8ec7-c9fecff1373f",
   "metadata": {},
   "source": [
    "# Let’s see total model with score"
   ]
  },
  {
   "cell_type": "code",
   "execution_count": 71,
   "id": "aed47ceb-e25a-4c9e-918c-ec54b00dcd45",
   "metadata": {},
   "outputs": [
    {
     "name": "stdout",
     "output_type": "stream",
     "text": [
      "                    model run_time   roc_auc\n",
      "0  RandomForestClassifier     2.11  0.887046\n",
      "5                     SVC     1.35  0.885963\n",
      "4             BernoulliNB     0.02  0.857851\n",
      "3         RidgeClassifier     0.02  0.855441\n",
      "2    KNeighborsClassifier     0.03  0.840505\n",
      "1  DecisionTreeClassifier     0.05  0.731852\n"
     ]
    }
   ],
   "source": [
    "print(models)"
   ]
  },
  {
   "cell_type": "markdown",
   "id": "3b55c80c-fb19-4a5d-836d-a96553c500fe",
   "metadata": {},
   "source": [
    "### The best model is\n",
    "- The top performer was SVC(), which generated a ROC/AUC score of 0.88.\n",
    "- We’ll select this model as our best one and examine the results in a bit\n",
    "more detail to see how well it works."
   ]
  },
  {
   "cell_type": "markdown",
   "id": "d8beb0b8-e212-42c1-8e45-403e9b7ae259",
   "metadata": {},
   "source": [
    "# Examine the performance of the best model\n",
    "- By re-running the model_pipeline() function on our selected model as\n",
    "the MLPClassifier()\n",
    "- We can generate predictions and assess their accuracy on the test data."
   ]
  },
  {
   "cell_type": "markdown",
   "id": "fc05f029-7a23-40d1-9ec3-82dd65c7d712",
   "metadata": {},
   "source": [
    "- What this shows is that the SVC model generated a ROC/AUC score of\n",
    "0.88 on the training data, which is really good."
   ]
  },
  {
   "cell_type": "markdown",
   "id": "5b59aed0-dca5-4298-b0a4-1637db1f8baf",
   "metadata": {},
   "source": [
    "# Accessing best model and training"
   ]
  },
  {
   "cell_type": "code",
   "execution_count": 72,
   "id": "5489aa07-f201-4d0f-95ea-b335431f9b2a",
   "metadata": {},
   "outputs": [],
   "source": [
    "selected_model = SVC()"
   ]
  },
  {
   "cell_type": "code",
   "execution_count": 73,
   "id": "ab0633b9-2e28-4fb1-8c2f-dca348dd340c",
   "metadata": {},
   "outputs": [],
   "source": [
    "bundled_pipeline = model_pipeline(X_train, selected_model)"
   ]
  },
  {
   "cell_type": "code",
   "execution_count": 74,
   "id": "d8d48ae5-bf4e-444e-8c9b-1053bfad47f2",
   "metadata": {},
   "outputs": [
    {
     "data": {
      "text/html": [
       "<style>#sk-container-id-1 {color: black;}#sk-container-id-1 pre{padding: 0;}#sk-container-id-1 div.sk-toggleable {background-color: white;}#sk-container-id-1 label.sk-toggleable__label {cursor: pointer;display: block;width: 100%;margin-bottom: 0;padding: 0.3em;box-sizing: border-box;text-align: center;}#sk-container-id-1 label.sk-toggleable__label-arrow:before {content: \"▸\";float: left;margin-right: 0.25em;color: #696969;}#sk-container-id-1 label.sk-toggleable__label-arrow:hover:before {color: black;}#sk-container-id-1 div.sk-estimator:hover label.sk-toggleable__label-arrow:before {color: black;}#sk-container-id-1 div.sk-toggleable__content {max-height: 0;max-width: 0;overflow: hidden;text-align: left;background-color: #f0f8ff;}#sk-container-id-1 div.sk-toggleable__content pre {margin: 0.2em;color: black;border-radius: 0.25em;background-color: #f0f8ff;}#sk-container-id-1 input.sk-toggleable__control:checked~div.sk-toggleable__content {max-height: 200px;max-width: 100%;overflow: auto;}#sk-container-id-1 input.sk-toggleable__control:checked~label.sk-toggleable__label-arrow:before {content: \"▾\";}#sk-container-id-1 div.sk-estimator input.sk-toggleable__control:checked~label.sk-toggleable__label {background-color: #d4ebff;}#sk-container-id-1 div.sk-label input.sk-toggleable__control:checked~label.sk-toggleable__label {background-color: #d4ebff;}#sk-container-id-1 input.sk-hidden--visually {border: 0;clip: rect(1px 1px 1px 1px);clip: rect(1px, 1px, 1px, 1px);height: 1px;margin: -1px;overflow: hidden;padding: 0;position: absolute;width: 1px;}#sk-container-id-1 div.sk-estimator {font-family: monospace;background-color: #f0f8ff;border: 1px dotted black;border-radius: 0.25em;box-sizing: border-box;margin-bottom: 0.5em;}#sk-container-id-1 div.sk-estimator:hover {background-color: #d4ebff;}#sk-container-id-1 div.sk-parallel-item::after {content: \"\";width: 100%;border-bottom: 1px solid gray;flex-grow: 1;}#sk-container-id-1 div.sk-label:hover label.sk-toggleable__label {background-color: #d4ebff;}#sk-container-id-1 div.sk-serial::before {content: \"\";position: absolute;border-left: 1px solid gray;box-sizing: border-box;top: 0;bottom: 0;left: 50%;z-index: 0;}#sk-container-id-1 div.sk-serial {display: flex;flex-direction: column;align-items: center;background-color: white;padding-right: 0.2em;padding-left: 0.2em;position: relative;}#sk-container-id-1 div.sk-item {position: relative;z-index: 1;}#sk-container-id-1 div.sk-parallel {display: flex;align-items: stretch;justify-content: center;background-color: white;position: relative;}#sk-container-id-1 div.sk-item::before, #sk-container-id-1 div.sk-parallel-item::before {content: \"\";position: absolute;border-left: 1px solid gray;box-sizing: border-box;top: 0;bottom: 0;left: 50%;z-index: -1;}#sk-container-id-1 div.sk-parallel-item {display: flex;flex-direction: column;z-index: 1;position: relative;background-color: white;}#sk-container-id-1 div.sk-parallel-item:first-child::after {align-self: flex-end;width: 50%;}#sk-container-id-1 div.sk-parallel-item:last-child::after {align-self: flex-start;width: 50%;}#sk-container-id-1 div.sk-parallel-item:only-child::after {width: 0;}#sk-container-id-1 div.sk-dashed-wrapped {border: 1px dashed gray;margin: 0 0.4em 0.5em 0.4em;box-sizing: border-box;padding-bottom: 0.4em;background-color: white;}#sk-container-id-1 div.sk-label label {font-family: monospace;font-weight: bold;display: inline-block;line-height: 1.2em;}#sk-container-id-1 div.sk-label-container {text-align: center;}#sk-container-id-1 div.sk-container {/* jupyter's `normalize.less` sets `[hidden] { display: none; }` but bootstrap.min.css set `[hidden] { display: none !important; }` so we also need the `!important` here to be able to override the default hidden behavior on the sphinx rendered scikit-learn.org. See: https://github.com/scikit-learn/scikit-learn/issues/21755 */display: inline-block !important;position: relative;}#sk-container-id-1 div.sk-text-repr-fallback {display: none;}</style><div id=\"sk-container-id-1\" class=\"sk-top-container\"><div class=\"sk-text-repr-fallback\"><pre>Pipeline(steps=[(&#x27;preprocessor&#x27;,\n",
       "                 ColumnTransformer(remainder=&#x27;passthrough&#x27;,\n",
       "                                   transformers=[(&#x27;numeric&#x27;,\n",
       "                                                  SimpleImputer(strategy=&#x27;constant&#x27;),\n",
       "                                                  [&#x27;Administrative&#x27;,\n",
       "                                                   &#x27;Administrative_Duration&#x27;,\n",
       "                                                   &#x27;Informational&#x27;,\n",
       "                                                   &#x27;Informational_Duration&#x27;,\n",
       "                                                   &#x27;ProductRelated&#x27;,\n",
       "                                                   &#x27;ProductRelated_Duration&#x27;,\n",
       "                                                   &#x27;BounceRates&#x27;, &#x27;ExitRates&#x27;,\n",
       "                                                   &#x27;PageValues&#x27;, &#x27;SpecialDay&#x27;,\n",
       "                                                   &#x27;Month&#x27;, &#x27;OperatingSystems&#x27;,\n",
       "                                                   &#x27;Browser&#x27;, &#x27;Region&#x27;,\n",
       "                                                   &#x27;TrafficType&#x27;, &#x27;Weekend&#x27;,\n",
       "                                                   &#x27;Returning_Visitor&#x27;]),\n",
       "                                                 (&#x27;categorical&#x27;,\n",
       "                                                  OneHotEncoder(handle_unknown=&#x27;ignore&#x27;),\n",
       "                                                  [])])),\n",
       "                (&#x27;smote&#x27;, SMOTE(random_state=1)), (&#x27;scaler&#x27;, MinMaxScaler()),\n",
       "                (&#x27;feature_selection&#x27;,\n",
       "                 SelectKBest(k=6,\n",
       "                             score_func=&lt;function chi2 at 0x000001FB0E15A680&gt;)),\n",
       "                (&#x27;model&#x27;, SVC())])</pre><b>In a Jupyter environment, please rerun this cell to show the HTML representation or trust the notebook. <br />On GitHub, the HTML representation is unable to render, please try loading this page with nbviewer.org.</b></div><div class=\"sk-container\" hidden><div class=\"sk-item sk-dashed-wrapped\"><div class=\"sk-label-container\"><div class=\"sk-label sk-toggleable\"><input class=\"sk-toggleable__control sk-hidden--visually\" id=\"sk-estimator-id-1\" type=\"checkbox\" ><label for=\"sk-estimator-id-1\" class=\"sk-toggleable__label sk-toggleable__label-arrow\">Pipeline</label><div class=\"sk-toggleable__content\"><pre>Pipeline(steps=[(&#x27;preprocessor&#x27;,\n",
       "                 ColumnTransformer(remainder=&#x27;passthrough&#x27;,\n",
       "                                   transformers=[(&#x27;numeric&#x27;,\n",
       "                                                  SimpleImputer(strategy=&#x27;constant&#x27;),\n",
       "                                                  [&#x27;Administrative&#x27;,\n",
       "                                                   &#x27;Administrative_Duration&#x27;,\n",
       "                                                   &#x27;Informational&#x27;,\n",
       "                                                   &#x27;Informational_Duration&#x27;,\n",
       "                                                   &#x27;ProductRelated&#x27;,\n",
       "                                                   &#x27;ProductRelated_Duration&#x27;,\n",
       "                                                   &#x27;BounceRates&#x27;, &#x27;ExitRates&#x27;,\n",
       "                                                   &#x27;PageValues&#x27;, &#x27;SpecialDay&#x27;,\n",
       "                                                   &#x27;Month&#x27;, &#x27;OperatingSystems&#x27;,\n",
       "                                                   &#x27;Browser&#x27;, &#x27;Region&#x27;,\n",
       "                                                   &#x27;TrafficType&#x27;, &#x27;Weekend&#x27;,\n",
       "                                                   &#x27;Returning_Visitor&#x27;]),\n",
       "                                                 (&#x27;categorical&#x27;,\n",
       "                                                  OneHotEncoder(handle_unknown=&#x27;ignore&#x27;),\n",
       "                                                  [])])),\n",
       "                (&#x27;smote&#x27;, SMOTE(random_state=1)), (&#x27;scaler&#x27;, MinMaxScaler()),\n",
       "                (&#x27;feature_selection&#x27;,\n",
       "                 SelectKBest(k=6,\n",
       "                             score_func=&lt;function chi2 at 0x000001FB0E15A680&gt;)),\n",
       "                (&#x27;model&#x27;, SVC())])</pre></div></div></div><div class=\"sk-serial\"><div class=\"sk-item sk-dashed-wrapped\"><div class=\"sk-label-container\"><div class=\"sk-label sk-toggleable\"><input class=\"sk-toggleable__control sk-hidden--visually\" id=\"sk-estimator-id-2\" type=\"checkbox\" ><label for=\"sk-estimator-id-2\" class=\"sk-toggleable__label sk-toggleable__label-arrow\">preprocessor: ColumnTransformer</label><div class=\"sk-toggleable__content\"><pre>ColumnTransformer(remainder=&#x27;passthrough&#x27;,\n",
       "                  transformers=[(&#x27;numeric&#x27;, SimpleImputer(strategy=&#x27;constant&#x27;),\n",
       "                                 [&#x27;Administrative&#x27;, &#x27;Administrative_Duration&#x27;,\n",
       "                                  &#x27;Informational&#x27;, &#x27;Informational_Duration&#x27;,\n",
       "                                  &#x27;ProductRelated&#x27;, &#x27;ProductRelated_Duration&#x27;,\n",
       "                                  &#x27;BounceRates&#x27;, &#x27;ExitRates&#x27;, &#x27;PageValues&#x27;,\n",
       "                                  &#x27;SpecialDay&#x27;, &#x27;Month&#x27;, &#x27;OperatingSystems&#x27;,\n",
       "                                  &#x27;Browser&#x27;, &#x27;Region&#x27;, &#x27;TrafficType&#x27;, &#x27;Weekend&#x27;,\n",
       "                                  &#x27;Returning_Visitor&#x27;]),\n",
       "                                (&#x27;categorical&#x27;,\n",
       "                                 OneHotEncoder(handle_unknown=&#x27;ignore&#x27;), [])])</pre></div></div></div><div class=\"sk-parallel\"><div class=\"sk-parallel-item\"><div class=\"sk-item\"><div class=\"sk-label-container\"><div class=\"sk-label sk-toggleable\"><input class=\"sk-toggleable__control sk-hidden--visually\" id=\"sk-estimator-id-3\" type=\"checkbox\" ><label for=\"sk-estimator-id-3\" class=\"sk-toggleable__label sk-toggleable__label-arrow\">numeric</label><div class=\"sk-toggleable__content\"><pre>[&#x27;Administrative&#x27;, &#x27;Administrative_Duration&#x27;, &#x27;Informational&#x27;, &#x27;Informational_Duration&#x27;, &#x27;ProductRelated&#x27;, &#x27;ProductRelated_Duration&#x27;, &#x27;BounceRates&#x27;, &#x27;ExitRates&#x27;, &#x27;PageValues&#x27;, &#x27;SpecialDay&#x27;, &#x27;Month&#x27;, &#x27;OperatingSystems&#x27;, &#x27;Browser&#x27;, &#x27;Region&#x27;, &#x27;TrafficType&#x27;, &#x27;Weekend&#x27;, &#x27;Returning_Visitor&#x27;]</pre></div></div></div><div class=\"sk-serial\"><div class=\"sk-item\"><div class=\"sk-estimator sk-toggleable\"><input class=\"sk-toggleable__control sk-hidden--visually\" id=\"sk-estimator-id-4\" type=\"checkbox\" ><label for=\"sk-estimator-id-4\" class=\"sk-toggleable__label sk-toggleable__label-arrow\">SimpleImputer</label><div class=\"sk-toggleable__content\"><pre>SimpleImputer(strategy=&#x27;constant&#x27;)</pre></div></div></div></div></div></div><div class=\"sk-parallel-item\"><div class=\"sk-item\"><div class=\"sk-label-container\"><div class=\"sk-label sk-toggleable\"><input class=\"sk-toggleable__control sk-hidden--visually\" id=\"sk-estimator-id-5\" type=\"checkbox\" ><label for=\"sk-estimator-id-5\" class=\"sk-toggleable__label sk-toggleable__label-arrow\">categorical</label><div class=\"sk-toggleable__content\"><pre>[]</pre></div></div></div><div class=\"sk-serial\"><div class=\"sk-item\"><div class=\"sk-estimator sk-toggleable\"><input class=\"sk-toggleable__control sk-hidden--visually\" id=\"sk-estimator-id-6\" type=\"checkbox\" ><label for=\"sk-estimator-id-6\" class=\"sk-toggleable__label sk-toggleable__label-arrow\">OneHotEncoder</label><div class=\"sk-toggleable__content\"><pre>OneHotEncoder(handle_unknown=&#x27;ignore&#x27;)</pre></div></div></div></div></div></div><div class=\"sk-parallel-item\"><div class=\"sk-item\"><div class=\"sk-label-container\"><div class=\"sk-label sk-toggleable\"><input class=\"sk-toggleable__control sk-hidden--visually\" id=\"sk-estimator-id-7\" type=\"checkbox\" ><label for=\"sk-estimator-id-7\" class=\"sk-toggleable__label sk-toggleable__label-arrow\">remainder</label><div class=\"sk-toggleable__content\"><pre>[]</pre></div></div></div><div class=\"sk-serial\"><div class=\"sk-item\"><div class=\"sk-estimator sk-toggleable\"><input class=\"sk-toggleable__control sk-hidden--visually\" id=\"sk-estimator-id-8\" type=\"checkbox\" ><label for=\"sk-estimator-id-8\" class=\"sk-toggleable__label sk-toggleable__label-arrow\">passthrough</label><div class=\"sk-toggleable__content\"><pre>passthrough</pre></div></div></div></div></div></div></div></div><div class=\"sk-item\"><div class=\"sk-estimator sk-toggleable\"><input class=\"sk-toggleable__control sk-hidden--visually\" id=\"sk-estimator-id-9\" type=\"checkbox\" ><label for=\"sk-estimator-id-9\" class=\"sk-toggleable__label sk-toggleable__label-arrow\">SMOTE</label><div class=\"sk-toggleable__content\"><pre>SMOTE(random_state=1)</pre></div></div></div><div class=\"sk-item\"><div class=\"sk-estimator sk-toggleable\"><input class=\"sk-toggleable__control sk-hidden--visually\" id=\"sk-estimator-id-10\" type=\"checkbox\" ><label for=\"sk-estimator-id-10\" class=\"sk-toggleable__label sk-toggleable__label-arrow\">MinMaxScaler</label><div class=\"sk-toggleable__content\"><pre>MinMaxScaler()</pre></div></div></div><div class=\"sk-item\"><div class=\"sk-estimator sk-toggleable\"><input class=\"sk-toggleable__control sk-hidden--visually\" id=\"sk-estimator-id-11\" type=\"checkbox\" ><label for=\"sk-estimator-id-11\" class=\"sk-toggleable__label sk-toggleable__label-arrow\">SelectKBest</label><div class=\"sk-toggleable__content\"><pre>SelectKBest(k=6, score_func=&lt;function chi2 at 0x000001FB0E15A680&gt;)</pre></div></div></div><div class=\"sk-item\"><div class=\"sk-estimator sk-toggleable\"><input class=\"sk-toggleable__control sk-hidden--visually\" id=\"sk-estimator-id-12\" type=\"checkbox\" ><label for=\"sk-estimator-id-12\" class=\"sk-toggleable__label sk-toggleable__label-arrow\">SVC</label><div class=\"sk-toggleable__content\"><pre>SVC()</pre></div></div></div></div></div></div></div>"
      ],
      "text/plain": [
       "Pipeline(steps=[('preprocessor',\n",
       "                 ColumnTransformer(remainder='passthrough',\n",
       "                                   transformers=[('numeric',\n",
       "                                                  SimpleImputer(strategy='constant'),\n",
       "                                                  ['Administrative',\n",
       "                                                   'Administrative_Duration',\n",
       "                                                   'Informational',\n",
       "                                                   'Informational_Duration',\n",
       "                                                   'ProductRelated',\n",
       "                                                   'ProductRelated_Duration',\n",
       "                                                   'BounceRates', 'ExitRates',\n",
       "                                                   'PageValues', 'SpecialDay',\n",
       "                                                   'Month', 'OperatingSystems',\n",
       "                                                   'Browser', 'Region',\n",
       "                                                   'TrafficType', 'Weekend',\n",
       "                                                   'Returning_Visitor']),\n",
       "                                                 ('categorical',\n",
       "                                                  OneHotEncoder(handle_unknown='ignore'),\n",
       "                                                  [])])),\n",
       "                ('smote', SMOTE(random_state=1)), ('scaler', MinMaxScaler()),\n",
       "                ('feature_selection',\n",
       "                 SelectKBest(k=6,\n",
       "                             score_func=<function chi2 at 0x000001FB0E15A680>)),\n",
       "                ('model', SVC())])"
      ]
     },
     "execution_count": 74,
     "metadata": {},
     "output_type": "execute_result"
    }
   ],
   "source": [
    "bundled_pipeline.fit(X_train, y_train)"
   ]
  },
  {
   "cell_type": "markdown",
   "id": "03cef3cd-4800-47e1-afb1-77f4f18add2e",
   "metadata": {},
   "source": [
    "# Predict the result"
   ]
  },
  {
   "cell_type": "code",
   "execution_count": 75,
   "id": "da94740e-516b-4273-aa9e-87013e21e7ff",
   "metadata": {},
   "outputs": [],
   "source": [
    "y_pred = bundled_pipeline.predict(X_test)"
   ]
  },
  {
   "cell_type": "code",
   "execution_count": 76,
   "id": "ecfa0fb1-ca5b-4e0e-a4a4-b15b9aff20a3",
   "metadata": {},
   "outputs": [
    {
     "data": {
      "text/plain": [
       "array([0, 0, 0, ..., 0, 0, 0], dtype=int64)"
      ]
     },
     "execution_count": 76,
     "metadata": {},
     "output_type": "execute_result"
    }
   ],
   "source": [
    "y_pred"
   ]
  },
  {
   "cell_type": "markdown",
   "id": "4e84cff7-be56-4d4f-be15-5b35552c3054",
   "metadata": {},
   "source": [
    "# ROC and AOC score"
   ]
  },
  {
   "cell_type": "code",
   "execution_count": 77,
   "id": "3b12adc2-e4fb-447e-a71f-0dbcc1ef599a",
   "metadata": {},
   "outputs": [],
   "source": [
    "roc_auc = roc_auc_score(y_test, y_pred)"
   ]
  },
  {
   "cell_type": "code",
   "execution_count": 78,
   "id": "835c719d-29e6-4e11-b385-956f6c8c2bcd",
   "metadata": {},
   "outputs": [],
   "source": [
    "accuracy = accuracy_score(y_test, y_pred)"
   ]
  },
  {
   "cell_type": "code",
   "execution_count": 79,
   "id": "8d79fe57-0983-4ee1-bf66-c2993a21f02b",
   "metadata": {},
   "outputs": [],
   "source": [
    "f1_score = f1_score(y_test, y_pred)"
   ]
  },
  {
   "cell_type": "code",
   "execution_count": 80,
   "id": "92407205-bac1-4bc3-8734-8109ae714351",
   "metadata": {},
   "outputs": [
    {
     "name": "stdout",
     "output_type": "stream",
     "text": [
      "ROC/AUC: 0.7772768502330849\n",
      "Accuracy: 0.8780751554474182\n",
      "F1 score: 0.6330349877949553\n"
     ]
    }
   ],
   "source": [
    "print('ROC/AUC:', roc_auc)\n",
    "print('Accuracy:', accuracy)\n",
    "print('F1 score:', f1_score)"
   ]
  },
  {
   "cell_type": "markdown",
   "id": "8bf954b7-ffdf-4b25-8983-3fe6c6f51149",
   "metadata": {},
   "source": [
    "# Classification report"
   ]
  },
  {
   "cell_type": "code",
   "execution_count": 81,
   "id": "0889809b-8d6e-4549-a504-cea6dbe971ea",
   "metadata": {},
   "outputs": [],
   "source": [
    "classif_report = classification_report(y_test, y_pred)"
   ]
  },
  {
   "cell_type": "code",
   "execution_count": 82,
   "id": "76224693-07af-4e08-a53c-92d123e95c94",
   "metadata": {},
   "outputs": [
    {
     "data": {
      "text/plain": [
       "'              precision    recall  f1-score   support\\n\\n           0       0.92      0.93      0.93      3077\\n           1       0.64      0.63      0.63       622\\n\\n    accuracy                           0.88      3699\\n   macro avg       0.78      0.78      0.78      3699\\nweighted avg       0.88      0.88      0.88      3699\\n'"
      ]
     },
     "execution_count": 82,
     "metadata": {},
     "output_type": "execute_result"
    }
   ],
   "source": [
    "classif_report"
   ]
  },
  {
   "cell_type": "markdown",
   "id": "432263ef-24f9-49e5-92ed-bf92f429af7c",
   "metadata": {},
   "source": [
    "# Final results and words\n",
    "- Examining the confusion matrix for the selected model, it shows that we\n",
    "correctly predicted customers (93%) wouldn’t purchase during their\n",
    "session, and we correctly predicted that 63% of customers who would\n",
    "purchase during their sessions.\n",
    "- Clearly, there’s still more we could do, and the overall accuracy of 88%\n",
    "- The results show that it’s possible to predict purchase intention from\n",
    "consumer behaviour data with a good degree of accuracy."
   ]
  },
  {
   "cell_type": "markdown",
   "id": "0a49586c-5471-43aa-8b30-13deee68d559",
   "metadata": {},
   "source": [
    "# Saving the model"
   ]
  },
  {
   "cell_type": "code",
   "execution_count": 83,
   "id": "4066cafc-8ecd-4c27-9358-c9216d6eed35",
   "metadata": {},
   "outputs": [],
   "source": [
    "import joblib"
   ]
  },
  {
   "cell_type": "code",
   "execution_count": 84,
   "id": "7712b8eb-037a-4f05-82b2-53bfadc53236",
   "metadata": {},
   "outputs": [
    {
     "data": {
      "text/plain": [
       "['Save_model']"
      ]
     },
     "execution_count": 84,
     "metadata": {},
     "output_type": "execute_result"
    }
   ],
   "source": [
    "joblib.dump(bundled_pipeline, 'Save_model')"
   ]
  },
  {
   "cell_type": "code",
   "execution_count": null,
   "id": "5acf8079-8dd8-411e-9a71-8e73c7bba0e4",
   "metadata": {},
   "outputs": [],
   "source": []
  }
 ],
 "metadata": {
  "kernelspec": {
   "display_name": "Python 3 (ipykernel)",
   "language": "python",
   "name": "python3"
  },
  "language_info": {
   "codemirror_mode": {
    "name": "ipython",
    "version": 3
   },
   "file_extension": ".py",
   "mimetype": "text/x-python",
   "name": "python",
   "nbconvert_exporter": "python",
   "pygments_lexer": "ipython3",
   "version": "3.10.11"
  }
 },
 "nbformat": 4,
 "nbformat_minor": 5
}
